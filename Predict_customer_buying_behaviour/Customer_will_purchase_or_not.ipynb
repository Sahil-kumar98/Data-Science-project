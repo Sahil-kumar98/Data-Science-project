{
 "cells": [
  {
   "cell_type": "markdown",
   "metadata": {},
   "source": [
    "## Problem Statement - Predict If a Customer Will Make a Purchase on a Website\n",
    "\n",
    "#### introduction - E-commerce becoming more and more prevalent in today’s economy  and due to Covid-19 pandamic, we have seen huge shift into online buying behavior, so it is important for businesses  to understand what factors into a site visitor making a purchase, and being able to put their attention on potential customers.  if it’s possible to predict the buying behavior of a site visitor as this can have many implications such as E-commerce website able to better target ads or figure out factors that may lead to increased sales."
   ]
  },
  {
   "cell_type": "markdown",
   "metadata": {},
   "source": [
    "## About The Data :\n",
    "\n",
    "- Data Source : UCI Machine Learning Depository https://archive.ics.uci.edu/ml/datasets/Online+Shoppers+Purchasing+Intention+Dataset#"
   ]
  },
  {
   "cell_type": "markdown",
   "metadata": {},
   "source": [
    "#### Administrative, Administrative Duration, Informational, Informational Duration, Product Related and Product Related Duration :\n",
    "- represent the number of different types of pages visited by the visitor in that session and total time spent in each of these page categories. The values of these features are derived from the URL information of the pages visited by the user and updated in real time when a user takes an action, e.g. moving from one page to another.\n",
    "\n",
    "#### Bounce Rate :\n",
    "- feature for a web page refers to the percentage of visitors who enter the site from that page and then leave (“bounce”) without triggering any other requests to the analytics server during that session. This is the number of single-page visits by visitors of the website.\n",
    "\n",
    "#### Exit Rate\n",
    "- feature for a specific web page is calculated as for all pageviews to the page, the percentage that were the last in the session. This is the number of exits from the website.\n",
    "\n",
    "#### Page Value\n",
    "- feature represents the average value for a web page that a user visited before completing an e-commerce transaction. It tells you which specific pages of the site offer the most value. For instance, a product page for an Ecommerce site will usually have a higher page value than a resource page.\n",
    "\n",
    "#### Special Day  \n",
    "- feature indicates the closeness of the site visiting time to a specific special day (e.g. Mother’s Day, Valentine’s Day) in which the sessions are more likely to be finalized with transaction. The value of this attribute is determined by considering the dynamics of e-commerce such as the duration between the order date and delivery date. For example, for Valentina’s day, this value takes a nonzero value between February 2 and February 12, zero before and after this date unless it is close to another special day, and its maximum value of 1 on February 8.\n",
    "\n",
    "### Operating system,browser, region, traffic type \n",
    "- Different types of operating systems, browser, region and traffic type used to visit the website\n",
    "### Visitor type \n",
    "- Whether the customer is a returning or new visitor\n",
    "### Weekend \n",
    "- A Boolean value indicating whether the date of the visit is weekend\n",
    "### Month \n",
    "- Month of the year.\n",
    "\n",
    "### Class Label (desired target):\n",
    "\n",
    "- Revenue - has the client purchased a product on the website? (binary: ‘TRUE’, ‘FALSE’)"
   ]
  },
  {
   "cell_type": "markdown",
   "metadata": {},
   "source": [
    "## Importing Important Library"
   ]
  },
  {
   "cell_type": "code",
   "execution_count": 242,
   "metadata": {},
   "outputs": [],
   "source": [
    "import pandas as pd\n",
    "import numpy as np\n",
    "import matplotlib.pyplot as plt\n",
    "import seaborn as sns\n",
    "from sklearn.ensemble import RandomForestClassifier\n",
    "from sklearn.model_selection import train_test_split,RandomizedSearchCV,cross_val_score\n",
    "from sklearn.metrics import classification_report,confusion_matrix,accuracy_score,roc_auc_score,roc_curve\n",
    "from sklearn.neighbors import KNeighborsClassifier\n",
    "from sklearn.svm import SVC\n",
    "from sklearn.linear_model import LogisticRegression\n",
    "from scipy.stats import randint as sp_randint\n",
    "from sklearn.preprocessing import StandardScaler\n",
    "from sklearn.feature_selection import SelectFromModel\n",
    "from sklearn.ensemble import ExtraTreesClassifier\n",
    "from imblearn.over_sampling import SMOTE\n",
    "%matplotlib inline\n",
    "import warnings\n",
    "warnings.filterwarnings('ignore')"
   ]
  },
  {
   "cell_type": "markdown",
   "metadata": {},
   "source": [
    "### Loading the Data"
   ]
  },
  {
   "cell_type": "code",
   "execution_count": 243,
   "metadata": {},
   "outputs": [],
   "source": [
    "data = pd.read_csv(\"online_shoppers_intention.csv\")"
   ]
  },
  {
   "cell_type": "code",
   "execution_count": 244,
   "metadata": {},
   "outputs": [
    {
     "data": {
      "text/html": [
       "<div>\n",
       "<style scoped>\n",
       "    .dataframe tbody tr th:only-of-type {\n",
       "        vertical-align: middle;\n",
       "    }\n",
       "\n",
       "    .dataframe tbody tr th {\n",
       "        vertical-align: top;\n",
       "    }\n",
       "\n",
       "    .dataframe thead th {\n",
       "        text-align: right;\n",
       "    }\n",
       "</style>\n",
       "<table border=\"1\" class=\"dataframe\">\n",
       "  <thead>\n",
       "    <tr style=\"text-align: right;\">\n",
       "      <th></th>\n",
       "      <th>Administrative</th>\n",
       "      <th>Administrative_Duration</th>\n",
       "      <th>Informational</th>\n",
       "      <th>Informational_Duration</th>\n",
       "      <th>ProductRelated</th>\n",
       "      <th>ProductRelated_Duration</th>\n",
       "      <th>BounceRates</th>\n",
       "      <th>ExitRates</th>\n",
       "      <th>PageValues</th>\n",
       "      <th>SpecialDay</th>\n",
       "      <th>Month</th>\n",
       "      <th>OperatingSystems</th>\n",
       "      <th>Browser</th>\n",
       "      <th>Region</th>\n",
       "      <th>TrafficType</th>\n",
       "      <th>VisitorType</th>\n",
       "      <th>Weekend</th>\n",
       "      <th>Revenue</th>\n",
       "    </tr>\n",
       "  </thead>\n",
       "  <tbody>\n",
       "    <tr>\n",
       "      <th>0</th>\n",
       "      <td>0</td>\n",
       "      <td>0.0</td>\n",
       "      <td>0</td>\n",
       "      <td>0.0</td>\n",
       "      <td>1</td>\n",
       "      <td>0.000000</td>\n",
       "      <td>0.20</td>\n",
       "      <td>0.20</td>\n",
       "      <td>0.0</td>\n",
       "      <td>0.0</td>\n",
       "      <td>Feb</td>\n",
       "      <td>1</td>\n",
       "      <td>1</td>\n",
       "      <td>1</td>\n",
       "      <td>1</td>\n",
       "      <td>Returning_Visitor</td>\n",
       "      <td>False</td>\n",
       "      <td>False</td>\n",
       "    </tr>\n",
       "    <tr>\n",
       "      <th>1</th>\n",
       "      <td>0</td>\n",
       "      <td>0.0</td>\n",
       "      <td>0</td>\n",
       "      <td>0.0</td>\n",
       "      <td>2</td>\n",
       "      <td>64.000000</td>\n",
       "      <td>0.00</td>\n",
       "      <td>0.10</td>\n",
       "      <td>0.0</td>\n",
       "      <td>0.0</td>\n",
       "      <td>Feb</td>\n",
       "      <td>2</td>\n",
       "      <td>2</td>\n",
       "      <td>1</td>\n",
       "      <td>2</td>\n",
       "      <td>Returning_Visitor</td>\n",
       "      <td>False</td>\n",
       "      <td>False</td>\n",
       "    </tr>\n",
       "    <tr>\n",
       "      <th>2</th>\n",
       "      <td>0</td>\n",
       "      <td>0.0</td>\n",
       "      <td>0</td>\n",
       "      <td>0.0</td>\n",
       "      <td>1</td>\n",
       "      <td>0.000000</td>\n",
       "      <td>0.20</td>\n",
       "      <td>0.20</td>\n",
       "      <td>0.0</td>\n",
       "      <td>0.0</td>\n",
       "      <td>Feb</td>\n",
       "      <td>4</td>\n",
       "      <td>1</td>\n",
       "      <td>9</td>\n",
       "      <td>3</td>\n",
       "      <td>Returning_Visitor</td>\n",
       "      <td>False</td>\n",
       "      <td>False</td>\n",
       "    </tr>\n",
       "    <tr>\n",
       "      <th>3</th>\n",
       "      <td>0</td>\n",
       "      <td>0.0</td>\n",
       "      <td>0</td>\n",
       "      <td>0.0</td>\n",
       "      <td>2</td>\n",
       "      <td>2.666667</td>\n",
       "      <td>0.05</td>\n",
       "      <td>0.14</td>\n",
       "      <td>0.0</td>\n",
       "      <td>0.0</td>\n",
       "      <td>Feb</td>\n",
       "      <td>3</td>\n",
       "      <td>2</td>\n",
       "      <td>2</td>\n",
       "      <td>4</td>\n",
       "      <td>Returning_Visitor</td>\n",
       "      <td>False</td>\n",
       "      <td>False</td>\n",
       "    </tr>\n",
       "    <tr>\n",
       "      <th>4</th>\n",
       "      <td>0</td>\n",
       "      <td>0.0</td>\n",
       "      <td>0</td>\n",
       "      <td>0.0</td>\n",
       "      <td>10</td>\n",
       "      <td>627.500000</td>\n",
       "      <td>0.02</td>\n",
       "      <td>0.05</td>\n",
       "      <td>0.0</td>\n",
       "      <td>0.0</td>\n",
       "      <td>Feb</td>\n",
       "      <td>3</td>\n",
       "      <td>3</td>\n",
       "      <td>1</td>\n",
       "      <td>4</td>\n",
       "      <td>Returning_Visitor</td>\n",
       "      <td>True</td>\n",
       "      <td>False</td>\n",
       "    </tr>\n",
       "  </tbody>\n",
       "</table>\n",
       "</div>"
      ],
      "text/plain": [
       "   Administrative  Administrative_Duration  Informational  \\\n",
       "0               0                      0.0              0   \n",
       "1               0                      0.0              0   \n",
       "2               0                      0.0              0   \n",
       "3               0                      0.0              0   \n",
       "4               0                      0.0              0   \n",
       "\n",
       "   Informational_Duration  ProductRelated  ProductRelated_Duration  \\\n",
       "0                     0.0               1                 0.000000   \n",
       "1                     0.0               2                64.000000   \n",
       "2                     0.0               1                 0.000000   \n",
       "3                     0.0               2                 2.666667   \n",
       "4                     0.0              10               627.500000   \n",
       "\n",
       "   BounceRates  ExitRates  PageValues  SpecialDay Month  OperatingSystems  \\\n",
       "0         0.20       0.20         0.0         0.0   Feb                 1   \n",
       "1         0.00       0.10         0.0         0.0   Feb                 2   \n",
       "2         0.20       0.20         0.0         0.0   Feb                 4   \n",
       "3         0.05       0.14         0.0         0.0   Feb                 3   \n",
       "4         0.02       0.05         0.0         0.0   Feb                 3   \n",
       "\n",
       "   Browser  Region  TrafficType        VisitorType  Weekend  Revenue  \n",
       "0        1       1            1  Returning_Visitor    False    False  \n",
       "1        2       1            2  Returning_Visitor    False    False  \n",
       "2        1       9            3  Returning_Visitor    False    False  \n",
       "3        2       2            4  Returning_Visitor    False    False  \n",
       "4        3       1            4  Returning_Visitor     True    False  "
      ]
     },
     "execution_count": 244,
     "metadata": {},
     "output_type": "execute_result"
    }
   ],
   "source": [
    "data.head()"
   ]
  },
  {
   "cell_type": "code",
   "execution_count": 245,
   "metadata": {},
   "outputs": [
    {
     "name": "stdout",
     "output_type": "stream",
     "text": [
      "<class 'pandas.core.frame.DataFrame'>\n",
      "RangeIndex: 12330 entries, 0 to 12329\n",
      "Data columns (total 18 columns):\n",
      " #   Column                   Non-Null Count  Dtype  \n",
      "---  ------                   --------------  -----  \n",
      " 0   Administrative           12330 non-null  int64  \n",
      " 1   Administrative_Duration  12330 non-null  float64\n",
      " 2   Informational            12330 non-null  int64  \n",
      " 3   Informational_Duration   12330 non-null  float64\n",
      " 4   ProductRelated           12330 non-null  int64  \n",
      " 5   ProductRelated_Duration  12330 non-null  float64\n",
      " 6   BounceRates              12330 non-null  float64\n",
      " 7   ExitRates                12330 non-null  float64\n",
      " 8   PageValues               12330 non-null  float64\n",
      " 9   SpecialDay               12330 non-null  float64\n",
      " 10  Month                    12330 non-null  object \n",
      " 11  OperatingSystems         12330 non-null  int64  \n",
      " 12  Browser                  12330 non-null  int64  \n",
      " 13  Region                   12330 non-null  int64  \n",
      " 14  TrafficType              12330 non-null  int64  \n",
      " 15  VisitorType              12330 non-null  object \n",
      " 16  Weekend                  12330 non-null  bool   \n",
      " 17  Revenue                  12330 non-null  bool   \n",
      "dtypes: bool(2), float64(7), int64(7), object(2)\n",
      "memory usage: 1.5+ MB\n"
     ]
    }
   ],
   "source": [
    "## Know the Data Type and there is null value or Not\n",
    "data.info()"
   ]
  },
  {
   "cell_type": "markdown",
   "metadata": {},
   "source": [
    "- There is no Null values and there are eight categorical features, and Nine quantitative Features and target label is \"revenue\" column "
   ]
  },
  {
   "cell_type": "markdown",
   "metadata": {},
   "source": [
    "- SpecialDay , Month,OperatingSystems,Browser,Region,TrafficType,VisitorType, Weekend are categorical Features "
   ]
  },
  {
   "cell_type": "markdown",
   "metadata": {},
   "source": [
    "-The data is clean!"
   ]
  },
  {
   "cell_type": "markdown",
   "metadata": {},
   "source": [
    "### EDA On the Dataset\n",
    "- General analysis of the dataset\n",
    "- In order to understand more about the data, let's observe the dataset with some analysis tools"
   ]
  },
  {
   "cell_type": "markdown",
   "metadata": {},
   "source": [
    "### Descriptive Statistics:"
   ]
  },
  {
   "cell_type": "code",
   "execution_count": 246,
   "metadata": {},
   "outputs": [
    {
     "data": {
      "text/html": [
       "<div>\n",
       "<style scoped>\n",
       "    .dataframe tbody tr th:only-of-type {\n",
       "        vertical-align: middle;\n",
       "    }\n",
       "\n",
       "    .dataframe tbody tr th {\n",
       "        vertical-align: top;\n",
       "    }\n",
       "\n",
       "    .dataframe thead th {\n",
       "        text-align: right;\n",
       "    }\n",
       "</style>\n",
       "<table border=\"1\" class=\"dataframe\">\n",
       "  <thead>\n",
       "    <tr style=\"text-align: right;\">\n",
       "      <th></th>\n",
       "      <th>Administrative</th>\n",
       "      <th>Administrative_Duration</th>\n",
       "      <th>Informational</th>\n",
       "      <th>Informational_Duration</th>\n",
       "      <th>ProductRelated</th>\n",
       "      <th>ProductRelated_Duration</th>\n",
       "      <th>BounceRates</th>\n",
       "      <th>ExitRates</th>\n",
       "      <th>PageValues</th>\n",
       "      <th>SpecialDay</th>\n",
       "      <th>OperatingSystems</th>\n",
       "      <th>Browser</th>\n",
       "      <th>Region</th>\n",
       "      <th>TrafficType</th>\n",
       "    </tr>\n",
       "  </thead>\n",
       "  <tbody>\n",
       "    <tr>\n",
       "      <th>count</th>\n",
       "      <td>12330.000000</td>\n",
       "      <td>12330.000000</td>\n",
       "      <td>12330.000000</td>\n",
       "      <td>12330.000000</td>\n",
       "      <td>12330.000000</td>\n",
       "      <td>12330.000000</td>\n",
       "      <td>12330.000000</td>\n",
       "      <td>12330.000000</td>\n",
       "      <td>12330.000000</td>\n",
       "      <td>12330.000000</td>\n",
       "      <td>12330.000000</td>\n",
       "      <td>12330.000000</td>\n",
       "      <td>12330.000000</td>\n",
       "      <td>12330.000000</td>\n",
       "    </tr>\n",
       "    <tr>\n",
       "      <th>mean</th>\n",
       "      <td>2.315166</td>\n",
       "      <td>80.818611</td>\n",
       "      <td>0.503569</td>\n",
       "      <td>34.472398</td>\n",
       "      <td>31.731468</td>\n",
       "      <td>1194.746220</td>\n",
       "      <td>0.022191</td>\n",
       "      <td>0.043073</td>\n",
       "      <td>5.889258</td>\n",
       "      <td>0.061427</td>\n",
       "      <td>2.124006</td>\n",
       "      <td>2.357097</td>\n",
       "      <td>3.147364</td>\n",
       "      <td>4.069586</td>\n",
       "    </tr>\n",
       "    <tr>\n",
       "      <th>std</th>\n",
       "      <td>3.321784</td>\n",
       "      <td>176.779107</td>\n",
       "      <td>1.270156</td>\n",
       "      <td>140.749294</td>\n",
       "      <td>44.475503</td>\n",
       "      <td>1913.669288</td>\n",
       "      <td>0.048488</td>\n",
       "      <td>0.048597</td>\n",
       "      <td>18.568437</td>\n",
       "      <td>0.198917</td>\n",
       "      <td>0.911325</td>\n",
       "      <td>1.717277</td>\n",
       "      <td>2.401591</td>\n",
       "      <td>4.025169</td>\n",
       "    </tr>\n",
       "    <tr>\n",
       "      <th>min</th>\n",
       "      <td>0.000000</td>\n",
       "      <td>0.000000</td>\n",
       "      <td>0.000000</td>\n",
       "      <td>0.000000</td>\n",
       "      <td>0.000000</td>\n",
       "      <td>0.000000</td>\n",
       "      <td>0.000000</td>\n",
       "      <td>0.000000</td>\n",
       "      <td>0.000000</td>\n",
       "      <td>0.000000</td>\n",
       "      <td>1.000000</td>\n",
       "      <td>1.000000</td>\n",
       "      <td>1.000000</td>\n",
       "      <td>1.000000</td>\n",
       "    </tr>\n",
       "    <tr>\n",
       "      <th>25%</th>\n",
       "      <td>0.000000</td>\n",
       "      <td>0.000000</td>\n",
       "      <td>0.000000</td>\n",
       "      <td>0.000000</td>\n",
       "      <td>7.000000</td>\n",
       "      <td>184.137500</td>\n",
       "      <td>0.000000</td>\n",
       "      <td>0.014286</td>\n",
       "      <td>0.000000</td>\n",
       "      <td>0.000000</td>\n",
       "      <td>2.000000</td>\n",
       "      <td>2.000000</td>\n",
       "      <td>1.000000</td>\n",
       "      <td>2.000000</td>\n",
       "    </tr>\n",
       "    <tr>\n",
       "      <th>50%</th>\n",
       "      <td>1.000000</td>\n",
       "      <td>7.500000</td>\n",
       "      <td>0.000000</td>\n",
       "      <td>0.000000</td>\n",
       "      <td>18.000000</td>\n",
       "      <td>598.936905</td>\n",
       "      <td>0.003112</td>\n",
       "      <td>0.025156</td>\n",
       "      <td>0.000000</td>\n",
       "      <td>0.000000</td>\n",
       "      <td>2.000000</td>\n",
       "      <td>2.000000</td>\n",
       "      <td>3.000000</td>\n",
       "      <td>2.000000</td>\n",
       "    </tr>\n",
       "    <tr>\n",
       "      <th>75%</th>\n",
       "      <td>4.000000</td>\n",
       "      <td>93.256250</td>\n",
       "      <td>0.000000</td>\n",
       "      <td>0.000000</td>\n",
       "      <td>38.000000</td>\n",
       "      <td>1464.157213</td>\n",
       "      <td>0.016813</td>\n",
       "      <td>0.050000</td>\n",
       "      <td>0.000000</td>\n",
       "      <td>0.000000</td>\n",
       "      <td>3.000000</td>\n",
       "      <td>2.000000</td>\n",
       "      <td>4.000000</td>\n",
       "      <td>4.000000</td>\n",
       "    </tr>\n",
       "    <tr>\n",
       "      <th>max</th>\n",
       "      <td>27.000000</td>\n",
       "      <td>3398.750000</td>\n",
       "      <td>24.000000</td>\n",
       "      <td>2549.375000</td>\n",
       "      <td>705.000000</td>\n",
       "      <td>63973.522230</td>\n",
       "      <td>0.200000</td>\n",
       "      <td>0.200000</td>\n",
       "      <td>361.763742</td>\n",
       "      <td>1.000000</td>\n",
       "      <td>8.000000</td>\n",
       "      <td>13.000000</td>\n",
       "      <td>9.000000</td>\n",
       "      <td>20.000000</td>\n",
       "    </tr>\n",
       "  </tbody>\n",
       "</table>\n",
       "</div>"
      ],
      "text/plain": [
       "       Administrative  Administrative_Duration  Informational  \\\n",
       "count    12330.000000             12330.000000   12330.000000   \n",
       "mean         2.315166                80.818611       0.503569   \n",
       "std          3.321784               176.779107       1.270156   \n",
       "min          0.000000                 0.000000       0.000000   \n",
       "25%          0.000000                 0.000000       0.000000   \n",
       "50%          1.000000                 7.500000       0.000000   \n",
       "75%          4.000000                93.256250       0.000000   \n",
       "max         27.000000              3398.750000      24.000000   \n",
       "\n",
       "       Informational_Duration  ProductRelated  ProductRelated_Duration  \\\n",
       "count            12330.000000    12330.000000             12330.000000   \n",
       "mean                34.472398       31.731468              1194.746220   \n",
       "std                140.749294       44.475503              1913.669288   \n",
       "min                  0.000000        0.000000                 0.000000   \n",
       "25%                  0.000000        7.000000               184.137500   \n",
       "50%                  0.000000       18.000000               598.936905   \n",
       "75%                  0.000000       38.000000              1464.157213   \n",
       "max               2549.375000      705.000000             63973.522230   \n",
       "\n",
       "        BounceRates     ExitRates    PageValues    SpecialDay  \\\n",
       "count  12330.000000  12330.000000  12330.000000  12330.000000   \n",
       "mean       0.022191      0.043073      5.889258      0.061427   \n",
       "std        0.048488      0.048597     18.568437      0.198917   \n",
       "min        0.000000      0.000000      0.000000      0.000000   \n",
       "25%        0.000000      0.014286      0.000000      0.000000   \n",
       "50%        0.003112      0.025156      0.000000      0.000000   \n",
       "75%        0.016813      0.050000      0.000000      0.000000   \n",
       "max        0.200000      0.200000    361.763742      1.000000   \n",
       "\n",
       "       OperatingSystems       Browser        Region   TrafficType  \n",
       "count      12330.000000  12330.000000  12330.000000  12330.000000  \n",
       "mean           2.124006      2.357097      3.147364      4.069586  \n",
       "std            0.911325      1.717277      2.401591      4.025169  \n",
       "min            1.000000      1.000000      1.000000      1.000000  \n",
       "25%            2.000000      2.000000      1.000000      2.000000  \n",
       "50%            2.000000      2.000000      3.000000      2.000000  \n",
       "75%            3.000000      2.000000      4.000000      4.000000  \n",
       "max            8.000000     13.000000      9.000000     20.000000  "
      ]
     },
     "execution_count": 246,
     "metadata": {},
     "output_type": "execute_result"
    }
   ],
   "source": [
    "data.describe()"
   ]
  },
  {
   "cell_type": "code",
   "execution_count": 247,
   "metadata": {},
   "outputs": [],
   "source": [
    "## Administrative_Duration,Informational_Duration, roductRelated_Duration, BounceRates, ExitRates are highly Skewed"
   ]
  },
  {
   "cell_type": "markdown",
   "metadata": {},
   "source": [
    "### Countplots which count the number of customers in various features"
   ]
  },
  {
   "cell_type": "code",
   "execution_count": 248,
   "metadata": {},
   "outputs": [
    {
     "data": {
      "text/plain": [
       "Text(0.5, 1.0, 'Weekend')"
      ]
     },
     "execution_count": 248,
     "metadata": {},
     "output_type": "execute_result"
    },
    {
     "data": {
      "image/png": "[encoded data removed]",
      "text/plain": [
       "<Figure size 1224x504 with 8 Axes>"
      ]
     },
     "metadata": {
      "needs_background": "light"
     },
     "output_type": "display_data"
    }
   ],
   "source": [
    "fig,ax = plt.subplots(nrows = 2, ncols = 4,figsize = (17,7))\n",
    "fig.tight_layout()\n",
    "#fig.suptitle('Countplots Of Some Features')\n",
    "\n",
    "ax[0,0].bar(data['Administrative'].value_counts().index,data['Administrative'].value_counts().values,color = 'red')\n",
    "ax[0,0].set_title('Administrative',size=13)\n",
    "ax[0,0].set_xlim(0,20)\n",
    "\n",
    "ax[0,1].bar(data['Informational'].value_counts().index,data['Informational'].value_counts().values,color = 'blue')\n",
    "ax[0,1].set_title('Informational',size=13)\n",
    "ax[0,1].set_xlim(0,10)\n",
    "\n",
    "ax[0,2].bar(data['ProductRelated'].value_counts().index,data['ProductRelated'].value_counts().values,color = 'purple')\n",
    "ax[0,2].set_title('ProductRelated',size=13)\n",
    "ax[0,2].set_xlim(0,200)\n",
    "\n",
    "ax[0,3].bar(data['OperatingSystems'].value_counts().index,data['OperatingSystems'].value_counts().values,color = 'yellow')\n",
    "ax[0,3].set_title('OperatingSystems',size=13)\n",
    "\n",
    "ax[1,0].bar(data['Browser'].value_counts().index,data['Browser'].value_counts().values,color = 'orange')\n",
    "ax[1,0].set_title('Browser',size=13)\n",
    "\n",
    "ax[1,1].bar(data['Region'].value_counts().index,data['Region'].value_counts().values,color = 'black')\n",
    "ax[1,1].set_title('Region',size=13)\n",
    "\n",
    "\n",
    "ax[1,2].bar(data['TrafficType'].value_counts().index,data['TrafficType'].value_counts().values,color = 'navy')\n",
    "ax[1,2].set_title('TrafficType',size=13)\n",
    "\n",
    "ax[1,3].bar(data['Weekend'].value_counts().index,data['Weekend'].value_counts().values,color = 'pink',width=0.2)\n",
    "ax[1,3].set_title('Weekend',size=13)\n"
   ]
  },
  {
   "cell_type": "code",
   "execution_count": 249,
   "metadata": {},
   "outputs": [
    {
     "data": {
      "image/png": "[encoded data removed]",
      "text/plain": [
       "<Figure size 864x864 with 5 Axes>"
      ]
     },
     "metadata": {},
     "output_type": "display_data"
    }
   ],
   "source": [
    "# Lets see Some  other categorical features with pie chart\n",
    "plt.style.use('ggplot')\n",
    "fig,ax = plt.subplots(3,2,figsize=(10,6))\n",
    "fig.set_figheight(12)\n",
    "fig.set_figwidth(12)\n",
    "plt.tight_layout()\n",
    "# Revenue\n",
    "ax[0,0].pie(data['Revenue'].value_counts().values,labels = ['Not Purchase','Purchase'],explode = [0.1,0.1],shadow = True,autopct='%1.1f%%')\n",
    "ax[0,0].set_title('Ratio of Revenue Availability')\n",
    "\n",
    "# Month \n",
    "ax[0,1].pie(data['Month'].value_counts().values,labels= data['Month'].value_counts().index[:],shadow = True, explode = [0.1,0.1,0.1,0.1,0.2,0.2,0.2,0.2,0.2,0.3],autopct='%1.0f%%')\n",
    "ax[0,1].set_title('Ratio of Each Month')\n",
    "\n",
    "# Visitor Types\n",
    "ax[1,0].pie(data['VisitorType'].value_counts().values,labels= data['VisitorType'].value_counts().index[:],explode = [0.1,0.1,0.3],shadow = True,autopct='%1.1f%%',colors=['green','red','blue'])\n",
    "ax[1,0].set_title('Ratio of Visitor Types')\n",
    "\n",
    "# Weekend\n",
    "ax[1,1].pie(data['Weekend'].value_counts().values,labels= data['Weekend'].value_counts().index[:],explode = [0.1,0.1],shadow = True,autopct='%1.1f%%')\n",
    "ax[1,1].set_title('Ratio of Weekends')\n",
    "\n",
    "# Special Days\n",
    "ax[2,0].pie(data['SpecialDay'].value_counts().values,labels= data['SpecialDay'].value_counts().index[:],explode = [0.1,0.2,0.2,0.3,0.3,0.4],shadow = True,autopct='%1.0f%%')\n",
    "ax[2,0].set_title('Ratio of Special Days')\n",
    "\n",
    "fig.delaxes(ax[2,1])"
   ]
  },
  {
   "cell_type": "markdown",
   "metadata": {},
   "source": [
    "### Analysis The Traffic volume whether purchase is happened or not over the months"
   ]
  },
  {
   "cell_type": "code",
   "execution_count": 250,
   "metadata": {},
   "outputs": [],
   "source": [
    "month_dict = { 'Feb':2, 'Mar':3, 'May': 5, 'Oct':10, 'June':6, 'Jul':7, 'Aug':8, 'Nov':11, 'Sep':9,\n",
    "       'Dec':12\n",
    "             }\n",
    "data['Month'] = data['Month'].map(month_dict)"
   ]
  },
  {
   "cell_type": "code",
   "execution_count": 251,
   "metadata": {},
   "outputs": [],
   "source": [
    "purchase_count =data[data['Revenue']==1]['Revenue'].groupby(data['Month']).count()\n",
    "Not_purchase_count =data[data['Revenue']==0]['Revenue'].groupby(data['Month']).count()\n",
    "Total_traffic = data['Revenue'].groupby(data['Month']).count()"
   ]
  },
  {
   "cell_type": "code",
   "execution_count": 252,
   "metadata": {
    "scrolled": true
   },
   "outputs": [
    {
     "data": {
      "text/plain": [
       "<matplotlib.legend.Legend at 0x1a6e001cf10>"
      ]
     },
     "execution_count": 252,
     "metadata": {},
     "output_type": "execute_result"
    },
    {
     "data": {
      "image/png": "[encoded data removed]",
      "text/plain": [
       "<Figure size 432x288 with 1 Axes>"
      ]
     },
     "metadata": {},
     "output_type": "display_data"
    }
   ],
   "source": [
    "plt.plot(Not_purchase_count.index,Not_purchase_count.values,label='Not Purchase')\n",
    "plt.plot(purchase_count.index,purchase_count.values,label='Purchase')\n",
    "plt.plot(Total_traffic.index,Total_traffic.values,label='Total Traffic')\n",
    "plt.xlabel(\"Month\")\n",
    "plt.ylabel(\" Label count\")\n",
    "plt.title(\"Purchase and Not Purchase count Distribution\")\n",
    "  \n",
    "# Adding legend, which helps us recognize the curve according to it's color\n",
    "plt.legend()"
   ]
  },
  {
   "cell_type": "markdown",
   "metadata": {},
   "source": [
    "#### we observed that, most site traffic happened in May with a slump in traffic over summer, whereas the most purchases that occurred happened in November which seems almost twice as much as the purchases that occurred in May."
   ]
  },
  {
   "cell_type": "markdown",
   "metadata": {},
   "source": [
    "### Here are some Non-Stacked bar charts to depict the ratio between False Revenue and True Revenue of some categorical columns"
   ]
  },
  {
   "cell_type": "code",
   "execution_count": 253,
   "metadata": {},
   "outputs": [
    {
     "data": {
      "text/plain": [
       "Text(0.5, 1.0, 'Ratio of Revenue Of Each Special Days')"
      ]
     },
     "execution_count": 253,
     "metadata": {},
     "output_type": "execute_result"
    },
    {
     "data": {
      "image/png": "[encoded data removed]",
      "text/plain": [
       "<Figure size 1008x432 with 4 Axes>"
      ]
     },
     "metadata": {},
     "output_type": "display_data"
    }
   ],
   "source": [
    "# Lets see the Ratio of Revenue in each categorical features\n",
    "fig, ax = plt.subplots(2,2,figsize = (14,6))\n",
    "plt.tight_layout(pad= 3)\n",
    "\n",
    "\n",
    "Region_rev = data[['Region','Revenue']]  \n",
    "vis_rev = data[['VisitorType','Revenue']]\n",
    "weekends_rev = data[['Weekend','Revenue']]\n",
    "spd_rev = data[['SpecialDay','Revenue']]\n",
    "\n",
    "\n",
    "sns.countplot(x = Region_rev['Region'],hue = Region_rev['Revenue'],ax =ax[0,0]).set_title('Ratio of Revenue Of Each Region')\n",
    "sns.countplot(x = vis_rev['VisitorType'],hue = vis_rev['Revenue'],ax =ax[0,1]).set_title('Ratio of Revenue Of Each Visitor Types')\n",
    "sns.countplot(x = weekends_rev['Weekend'],hue = weekends_rev['Revenue'],ax =ax[1,0]).set_title('Ratio of Revenue In Weekdays Or Weekends')\n",
    "sns.countplot(x = spd_rev['SpecialDay'],hue = spd_rev['Revenue'],ax =ax[1,1]).set_title('Ratio of Revenue Of Each Special Days')"
   ]
  },
  {
   "cell_type": "markdown",
   "metadata": {},
   "source": [
    "### How  ProductRelated Durations,Administrative_Duration,Informational_Duration,ExitRates,BounceRates affect  to make revenue?"
   ]
  },
  {
   "cell_type": "code",
   "execution_count": 254,
   "metadata": {
    "scrolled": true
   },
   "outputs": [
    {
     "data": {
      "text/html": [
       "<div>\n",
       "<style scoped>\n",
       "    .dataframe tbody tr th:only-of-type {\n",
       "        vertical-align: middle;\n",
       "    }\n",
       "\n",
       "    .dataframe tbody tr th {\n",
       "        vertical-align: top;\n",
       "    }\n",
       "\n",
       "    .dataframe thead th {\n",
       "        text-align: right;\n",
       "    }\n",
       "</style>\n",
       "<table border=\"1\" class=\"dataframe\">\n",
       "  <thead>\n",
       "    <tr style=\"text-align: right;\">\n",
       "      <th></th>\n",
       "      <th>ProductRelated_Duration</th>\n",
       "      <th>Administrative_Duration</th>\n",
       "      <th>Informational_Duration</th>\n",
       "      <th>ExitRates</th>\n",
       "      <th>BounceRates</th>\n",
       "    </tr>\n",
       "    <tr>\n",
       "      <th>Revenue</th>\n",
       "      <th></th>\n",
       "      <th></th>\n",
       "      <th></th>\n",
       "      <th></th>\n",
       "      <th></th>\n",
       "    </tr>\n",
       "  </thead>\n",
       "  <tbody>\n",
       "    <tr>\n",
       "      <th>False</th>\n",
       "      <td>1069.987809</td>\n",
       "      <td>73.740111</td>\n",
       "      <td>30.236237</td>\n",
       "      <td>0.047378</td>\n",
       "      <td>0.025317</td>\n",
       "    </tr>\n",
       "    <tr>\n",
       "      <th>True</th>\n",
       "      <td>1876.209615</td>\n",
       "      <td>119.483244</td>\n",
       "      <td>57.611427</td>\n",
       "      <td>0.019555</td>\n",
       "      <td>0.005117</td>\n",
       "    </tr>\n",
       "  </tbody>\n",
       "</table>\n",
       "</div>"
      ],
      "text/plain": [
       "         ProductRelated_Duration  Administrative_Duration  \\\n",
       "Revenue                                                     \n",
       "False                1069.987809                73.740111   \n",
       "True                 1876.209615               119.483244   \n",
       "\n",
       "         Informational_Duration  ExitRates  BounceRates  \n",
       "Revenue                                                  \n",
       "False                 30.236237   0.047378     0.025317  \n",
       "True                  57.611427   0.019555     0.005117  "
      ]
     },
     "execution_count": 254,
     "metadata": {},
     "output_type": "execute_result"
    }
   ],
   "source": [
    "prddur_rev = data.groupby('Revenue')['ProductRelated_Duration','Administrative_Duration','Informational_Duration','ExitRates','BounceRates'].mean()\n",
    "prddur_rev = pd.DataFrame(prddur_rev)\n",
    "prddur_rev"
   ]
  },
  {
   "cell_type": "markdown",
   "metadata": {},
   "source": [
    "- As the result, the average duration of ProductRelated, Administrative and Informational_Duration with true Revenue is higher than with the false Revenue whereas Exit rates is about 3 times and Bounce Rates is about 5 time lower True Revenue than false revenue\n",
    " "
   ]
  },
  {
   "cell_type": "markdown",
   "metadata": {},
   "source": [
    "### Let's see which feature is most likely to be correlated with the 'Revenue' Feature?"
   ]
  },
  {
   "cell_type": "code",
   "execution_count": 255,
   "metadata": {},
   "outputs": [
    {
     "data": {
      "text/plain": [
       "(array([ 0,  1,  2,  3,  4,  5,  6,  7,  8,  9, 10, 11, 12, 13, 14, 15]),\n",
       " [Text(0, 0, 'Administrative'),\n",
       "  Text(1, 0, 'Administrative_Duration'),\n",
       "  Text(2, 0, 'Informational'),\n",
       "  Text(3, 0, 'Informational_Duration'),\n",
       "  Text(4, 0, 'ProductRelated'),\n",
       "  Text(5, 0, 'ProductRelated_Duration'),\n",
       "  Text(6, 0, 'BounceRates'),\n",
       "  Text(7, 0, 'ExitRates'),\n",
       "  Text(8, 0, 'PageValues'),\n",
       "  Text(9, 0, 'SpecialDay'),\n",
       "  Text(10, 0, 'Month'),\n",
       "  Text(11, 0, 'OperatingSystems'),\n",
       "  Text(12, 0, 'Browser'),\n",
       "  Text(13, 0, 'Region'),\n",
       "  Text(14, 0, 'TrafficType'),\n",
       "  Text(15, 0, 'Weekend')])"
      ]
     },
     "execution_count": 255,
     "metadata": {},
     "output_type": "execute_result"
    },
    {
     "data": {
      "image/png": "[encoded data removed]",
      "text/plain": [
       "<Figure size 432x288 with 1 Axes>"
      ]
     },
     "metadata": {},
     "output_type": "display_data"
    }
   ],
   "source": [
    "# Correlation with Revenue\n",
    "data_corr = data.corr()['Revenue'] \n",
    "sns.barplot(data_corr[0:-1].index,data_corr[0:-1].values).set_title('Correlation with the Revenue')\n",
    "plt.xticks(rotation = 90)"
   ]
  },
  {
   "cell_type": "markdown",
   "metadata": {},
   "source": [
    "## Data Transformation\n"
   ]
  },
  {
   "cell_type": "markdown",
   "metadata": {},
   "source": [
    "-  There are some categorical columns, which type is given in string form we have to transform it into numeric value bu using Encoding Tachnique\n",
    "\n",
    "## One hot Encoding of Target  Revenue and Weekend Variable "
   ]
  },
  {
   "cell_type": "code",
   "execution_count": 256,
   "metadata": {},
   "outputs": [],
   "source": [
    "Bool_category = {False:0, True:1}\n",
    "data.Revenue =data.Revenue.map(Bool_category)\n",
    "data.Weekend =data.Weekend.map(Bool_category)"
   ]
  },
  {
   "cell_type": "markdown",
   "metadata": {},
   "source": [
    "## Probability Ratio Encoding of \"Visitor Type\" Columns "
   ]
  },
  {
   "cell_type": "code",
   "execution_count": 257,
   "metadata": {
    "scrolled": true
   },
   "outputs": [],
   "source": [
    "Rev_prob = data.Revenue.groupby(data['VisitorType']).mean().round(2)\n",
    "Rev_prob = pd.DataFrame(Rev_prob)"
   ]
  },
  {
   "cell_type": "code",
   "execution_count": 258,
   "metadata": {},
   "outputs": [],
   "source": [
    "Rev_prob['Not Rev'] = 1-Rev_prob['Revenue']\n",
    "Rev_prob['Prob ratio'] = Rev_prob['Revenue']/Rev_prob['Not Rev']"
   ]
  },
  {
   "cell_type": "code",
   "execution_count": 259,
   "metadata": {},
   "outputs": [],
   "source": [
    "data['VisitorType']= data['VisitorType'].map(Rev_prob['Prob ratio'].round(2))"
   ]
  },
  {
   "cell_type": "markdown",
   "metadata": {},
   "source": [
    "## Frequency Encoding of \"Month\" Encoding"
   ]
  },
  {
   "cell_type": "code",
   "execution_count": 260,
   "metadata": {},
   "outputs": [],
   "source": [
    "month_freq = data['Month'].value_counts()"
   ]
  },
  {
   "cell_type": "code",
   "execution_count": 261,
   "metadata": {},
   "outputs": [],
   "source": [
    "data['Month'] = data['Month'].map(month_freq)"
   ]
  },
  {
   "cell_type": "code",
   "execution_count": 262,
   "metadata": {
    "scrolled": false
   },
   "outputs": [
    {
     "data": {
      "text/html": [
       "<div>\n",
       "<style scoped>\n",
       "    .dataframe tbody tr th:only-of-type {\n",
       "        vertical-align: middle;\n",
       "    }\n",
       "\n",
       "    .dataframe tbody tr th {\n",
       "        vertical-align: top;\n",
       "    }\n",
       "\n",
       "    .dataframe thead th {\n",
       "        text-align: right;\n",
       "    }\n",
       "</style>\n",
       "<table border=\"1\" class=\"dataframe\">\n",
       "  <thead>\n",
       "    <tr style=\"text-align: right;\">\n",
       "      <th></th>\n",
       "      <th>Administrative</th>\n",
       "      <th>Administrative_Duration</th>\n",
       "      <th>Informational</th>\n",
       "      <th>Informational_Duration</th>\n",
       "      <th>ProductRelated</th>\n",
       "      <th>ProductRelated_Duration</th>\n",
       "      <th>BounceRates</th>\n",
       "      <th>ExitRates</th>\n",
       "      <th>PageValues</th>\n",
       "      <th>SpecialDay</th>\n",
       "      <th>Month</th>\n",
       "      <th>OperatingSystems</th>\n",
       "      <th>Browser</th>\n",
       "      <th>Region</th>\n",
       "      <th>TrafficType</th>\n",
       "      <th>VisitorType</th>\n",
       "      <th>Weekend</th>\n",
       "      <th>Revenue</th>\n",
       "    </tr>\n",
       "  </thead>\n",
       "  <tbody>\n",
       "    <tr>\n",
       "      <th>0</th>\n",
       "      <td>0</td>\n",
       "      <td>0.0</td>\n",
       "      <td>0</td>\n",
       "      <td>0.0</td>\n",
       "      <td>1</td>\n",
       "      <td>0.000000</td>\n",
       "      <td>0.20</td>\n",
       "      <td>0.20</td>\n",
       "      <td>0.0</td>\n",
       "      <td>0.0</td>\n",
       "      <td>184</td>\n",
       "      <td>1</td>\n",
       "      <td>1</td>\n",
       "      <td>1</td>\n",
       "      <td>1</td>\n",
       "      <td>0.16</td>\n",
       "      <td>0</td>\n",
       "      <td>0</td>\n",
       "    </tr>\n",
       "    <tr>\n",
       "      <th>1</th>\n",
       "      <td>0</td>\n",
       "      <td>0.0</td>\n",
       "      <td>0</td>\n",
       "      <td>0.0</td>\n",
       "      <td>2</td>\n",
       "      <td>64.000000</td>\n",
       "      <td>0.00</td>\n",
       "      <td>0.10</td>\n",
       "      <td>0.0</td>\n",
       "      <td>0.0</td>\n",
       "      <td>184</td>\n",
       "      <td>2</td>\n",
       "      <td>2</td>\n",
       "      <td>1</td>\n",
       "      <td>2</td>\n",
       "      <td>0.16</td>\n",
       "      <td>0</td>\n",
       "      <td>0</td>\n",
       "    </tr>\n",
       "    <tr>\n",
       "      <th>2</th>\n",
       "      <td>0</td>\n",
       "      <td>0.0</td>\n",
       "      <td>0</td>\n",
       "      <td>0.0</td>\n",
       "      <td>1</td>\n",
       "      <td>0.000000</td>\n",
       "      <td>0.20</td>\n",
       "      <td>0.20</td>\n",
       "      <td>0.0</td>\n",
       "      <td>0.0</td>\n",
       "      <td>184</td>\n",
       "      <td>4</td>\n",
       "      <td>1</td>\n",
       "      <td>9</td>\n",
       "      <td>3</td>\n",
       "      <td>0.16</td>\n",
       "      <td>0</td>\n",
       "      <td>0</td>\n",
       "    </tr>\n",
       "    <tr>\n",
       "      <th>3</th>\n",
       "      <td>0</td>\n",
       "      <td>0.0</td>\n",
       "      <td>0</td>\n",
       "      <td>0.0</td>\n",
       "      <td>2</td>\n",
       "      <td>2.666667</td>\n",
       "      <td>0.05</td>\n",
       "      <td>0.14</td>\n",
       "      <td>0.0</td>\n",
       "      <td>0.0</td>\n",
       "      <td>184</td>\n",
       "      <td>3</td>\n",
       "      <td>2</td>\n",
       "      <td>2</td>\n",
       "      <td>4</td>\n",
       "      <td>0.16</td>\n",
       "      <td>0</td>\n",
       "      <td>0</td>\n",
       "    </tr>\n",
       "    <tr>\n",
       "      <th>4</th>\n",
       "      <td>0</td>\n",
       "      <td>0.0</td>\n",
       "      <td>0</td>\n",
       "      <td>0.0</td>\n",
       "      <td>10</td>\n",
       "      <td>627.500000</td>\n",
       "      <td>0.02</td>\n",
       "      <td>0.05</td>\n",
       "      <td>0.0</td>\n",
       "      <td>0.0</td>\n",
       "      <td>184</td>\n",
       "      <td>3</td>\n",
       "      <td>3</td>\n",
       "      <td>1</td>\n",
       "      <td>4</td>\n",
       "      <td>0.16</td>\n",
       "      <td>1</td>\n",
       "      <td>0</td>\n",
       "    </tr>\n",
       "  </tbody>\n",
       "</table>\n",
       "</div>"
      ],
      "text/plain": [
       "   Administrative  Administrative_Duration  Informational  \\\n",
       "0               0                      0.0              0   \n",
       "1               0                      0.0              0   \n",
       "2               0                      0.0              0   \n",
       "3               0                      0.0              0   \n",
       "4               0                      0.0              0   \n",
       "\n",
       "   Informational_Duration  ProductRelated  ProductRelated_Duration  \\\n",
       "0                     0.0               1                 0.000000   \n",
       "1                     0.0               2                64.000000   \n",
       "2                     0.0               1                 0.000000   \n",
       "3                     0.0               2                 2.666667   \n",
       "4                     0.0              10               627.500000   \n",
       "\n",
       "   BounceRates  ExitRates  PageValues  SpecialDay  Month  OperatingSystems  \\\n",
       "0         0.20       0.20         0.0         0.0    184                 1   \n",
       "1         0.00       0.10         0.0         0.0    184                 2   \n",
       "2         0.20       0.20         0.0         0.0    184                 4   \n",
       "3         0.05       0.14         0.0         0.0    184                 3   \n",
       "4         0.02       0.05         0.0         0.0    184                 3   \n",
       "\n",
       "   Browser  Region  TrafficType  VisitorType  Weekend  Revenue  \n",
       "0        1       1            1         0.16        0        0  \n",
       "1        2       1            2         0.16        0        0  \n",
       "2        1       9            3         0.16        0        0  \n",
       "3        2       2            4         0.16        0        0  \n",
       "4        3       1            4         0.16        1        0  "
      ]
     },
     "execution_count": 262,
     "metadata": {},
     "output_type": "execute_result"
    }
   ],
   "source": [
    "data.head()"
   ]
  },
  {
   "cell_type": "markdown",
   "metadata": {},
   "source": [
    "###  Remove  Outlier"
   ]
  },
  {
   "cell_type": "code",
   "execution_count": 263,
   "metadata": {
    "scrolled": true
   },
   "outputs": [
    {
     "data": {
      "text/plain": [
       "Index(['Administrative', 'Administrative_Duration', 'Informational',\n",
       "       'Informational_Duration', 'ProductRelated', 'ProductRelated_Duration',\n",
       "       'BounceRates', 'ExitRates', 'PageValues', 'SpecialDay', 'Month',\n",
       "       'OperatingSystems', 'Browser', 'Region', 'TrafficType', 'VisitorType',\n",
       "       'Weekend', 'Revenue'],\n",
       "      dtype='object')"
      ]
     },
     "execution_count": 263,
     "metadata": {},
     "output_type": "execute_result"
    }
   ],
   "source": [
    "data.columns"
   ]
  },
  {
   "cell_type": "code",
   "execution_count": 264,
   "metadata": {},
   "outputs": [
    {
     "name": "stdout",
     "output_type": "stream",
     "text": [
      "[0, 0, 0] \n",
      " [233.03125000000003, 0.0, 3383.9995225] \n",
      " ['Administrative_Duration', 'Informational_Duration', 'ProductRelated_Duration']\n"
     ]
    }
   ],
   "source": [
    "columns_remove_outlier = ['Administrative_Duration', 'Informational_Duration','ProductRelated_Duration',]\n",
    "\n",
    "low_lim = []\n",
    "upp_lim = []\n",
    "column   = []\n",
    "\n",
    "for i in  columns_remove_outlier :\n",
    "    Q1 = np.percentile(data[i].values, 25, interpolation = 'midpoint') \n",
    "    Q2 = np.percentile(data[i].values, 50, interpolation = 'midpoint') \n",
    "    Q3 = np.percentile(data[i].values, 75, interpolation = 'midpoint') \n",
    "    IQR = Q3 - Q1\n",
    "    if (Q1 - 1.5 * IQR)<=0 :\n",
    "        low_lim.append(0)\n",
    "    else :\n",
    "        low_lim.append(Q1 - 1.5 * IQR)\n",
    "        \n",
    "    upp_lim.append(Q3 + 1.5 * IQR)\n",
    "    column.append(i)\n",
    "\n",
    "    \n",
    "print(low_lim,'\\n',upp_lim,'\\n',column)\n"
   ]
  },
  {
   "cell_type": "code",
   "execution_count": 265,
   "metadata": {},
   "outputs": [],
   "source": [
    "df_lim = pd.DataFrame([low_lim,upp_lim],columns =column, index=['low_lim','upp_lim'])"
   ]
  },
  {
   "cell_type": "code",
   "execution_count": 266,
   "metadata": {},
   "outputs": [
    {
     "data": {
      "text/html": [
       "<div>\n",
       "<style scoped>\n",
       "    .dataframe tbody tr th:only-of-type {\n",
       "        vertical-align: middle;\n",
       "    }\n",
       "\n",
       "    .dataframe tbody tr th {\n",
       "        vertical-align: top;\n",
       "    }\n",
       "\n",
       "    .dataframe thead th {\n",
       "        text-align: right;\n",
       "    }\n",
       "</style>\n",
       "<table border=\"1\" class=\"dataframe\">\n",
       "  <thead>\n",
       "    <tr style=\"text-align: right;\">\n",
       "      <th></th>\n",
       "      <th>Administrative_Duration</th>\n",
       "      <th>Informational_Duration</th>\n",
       "      <th>ProductRelated_Duration</th>\n",
       "    </tr>\n",
       "  </thead>\n",
       "  <tbody>\n",
       "    <tr>\n",
       "      <th>low_lim</th>\n",
       "      <td>0.00000</td>\n",
       "      <td>0.0</td>\n",
       "      <td>0.000000</td>\n",
       "    </tr>\n",
       "    <tr>\n",
       "      <th>upp_lim</th>\n",
       "      <td>233.03125</td>\n",
       "      <td>0.0</td>\n",
       "      <td>3383.999522</td>\n",
       "    </tr>\n",
       "  </tbody>\n",
       "</table>\n",
       "</div>"
      ],
      "text/plain": [
       "         Administrative_Duration  Informational_Duration  \\\n",
       "low_lim                  0.00000                     0.0   \n",
       "upp_lim                233.03125                     0.0   \n",
       "\n",
       "         ProductRelated_Duration  \n",
       "low_lim                 0.000000  \n",
       "upp_lim              3383.999522  "
      ]
     },
     "execution_count": 266,
     "metadata": {},
     "output_type": "execute_result"
    }
   ],
   "source": [
    "df_lim"
   ]
  },
  {
   "cell_type": "code",
   "execution_count": 267,
   "metadata": {},
   "outputs": [],
   "source": [
    "## we are not cosidering 'Informational_Duration' columns and since all values are equal to or grater than\n",
    "#    zero so i write only upper limit condition.\n",
    "\n",
    "x=data[(data['Administrative_Duration'] < df_lim['Administrative_Duration']['upp_lim']) &\n",
    "       (data['ProductRelated_Duration'] < df_lim['ProductRelated_Duration']['upp_lim'])\n",
    "      ].drop('Revenue',axis=1)\n",
    "\n",
    "y =data[ (data['Administrative_Duration'] < df_lim['Administrative_Duration']['upp_lim']) &\n",
    "         (data['ProductRelated_Duration'] < df_lim['ProductRelated_Duration']['upp_lim'])\n",
    "         ]['Revenue']"
   ]
  },
  {
   "cell_type": "markdown",
   "metadata": {},
   "source": [
    "## Classification"
   ]
  },
  {
   "cell_type": "markdown",
   "metadata": {},
   "source": [
    "### Goal :\n",
    "- To classify the customer whether he/she is interested on purchasing the products online.\n",
    "  Classification Models :\n",
    "  \n",
    "- I will be using 4 classification models : RandomForestClassifier,Logistic Regression, Support Vector Machine and KNN( k-nearest neighbors algorithm)"
   ]
  },
  {
   "cell_type": "markdown",
   "metadata": {},
   "source": [
    "## Standarization of Features"
   ]
  },
  {
   "cell_type": "code",
   "execution_count": 268,
   "metadata": {},
   "outputs": [],
   "source": [
    "# Scaled feature\n",
    "Standardisation = StandardScaler()\n",
    "x_after_Standardisation = Standardisation.fit_transform(x)"
   ]
  },
  {
   "cell_type": "code",
   "execution_count": 269,
   "metadata": {},
   "outputs": [],
   "source": [
    "x_std = pd.DataFrame(x_after_Standardisation, columns= data.columns.drop(['Revenue']))"
   ]
  },
  {
   "cell_type": "markdown",
   "metadata": {},
   "source": [
    "### Features Selection"
   ]
  },
  {
   "cell_type": "code",
   "execution_count": 270,
   "metadata": {},
   "outputs": [],
   "source": [
    "clf = ExtraTreesClassifier(n_estimators=50)\n",
    "clf = clf.fit(x_std, y)\n",
    "imp_features = clf.feature_importances_  "
   ]
  },
  {
   "cell_type": "code",
   "execution_count": 271,
   "metadata": {},
   "outputs": [],
   "source": [
    "mutual_info = pd.Series(imp_features)\n",
    "mutual_info.index = x_std.columns\n",
    "mutual_info_sorted=mutual_info.sort_values(ascending=False)"
   ]
  },
  {
   "cell_type": "code",
   "execution_count": 272,
   "metadata": {},
   "outputs": [
    {
     "data": {
      "text/plain": [
       "([0, 1, 2, 3, 4, 5, 6, 7, 8, 9],\n",
       " [Text(0, 0, ''),\n",
       "  Text(0, 0, ''),\n",
       "  Text(0, 0, ''),\n",
       "  Text(0, 0, ''),\n",
       "  Text(0, 0, ''),\n",
       "  Text(0, 0, ''),\n",
       "  Text(0, 0, ''),\n",
       "  Text(0, 0, ''),\n",
       "  Text(0, 0, ''),\n",
       "  Text(0, 0, '')])"
      ]
     },
     "execution_count": 272,
     "metadata": {},
     "output_type": "execute_result"
    },
    {
     "data": {
      "image/png": "[encoded data removed]",
      "text/plain": [
       "<Figure size 1008x936 with 1 Axes>"
      ]
     },
     "metadata": {},
     "output_type": "display_data"
    }
   ],
   "source": [
    "plt.figure(1, figsize=(14, 13))\n",
    "plt.title(\"Top 10 Importtant Features.\")\n",
    "plt.bar(mutual_info_sorted[ :10].index, mutual_info_sorted[ :10].values,color=\"g\",  align=\"center\")\n",
    "plt.xticks(rotation=30)"
   ]
  },
  {
   "cell_type": "code",
   "execution_count": 273,
   "metadata": {},
   "outputs": [],
   "source": [
    "top_10_imp_features = mutual_info_sorted[ :10].index.to_list()"
   ]
  },
  {
   "cell_type": "code",
   "execution_count": 274,
   "metadata": {},
   "outputs": [],
   "source": [
    "imp_features = x_std[top_10_imp_features]"
   ]
  },
  {
   "cell_type": "code",
   "execution_count": 275,
   "metadata": {},
   "outputs": [],
   "source": [
    "# spliting the Data into Train and Test Data\n",
    "X_train, X_test, y_train, y_test = train_test_split(imp_features, y, test_size=0.3, stratify=y)"
   ]
  },
  {
   "cell_type": "code",
   "execution_count": 276,
   "metadata": {},
   "outputs": [
    {
     "name": "stdout",
     "output_type": "stream",
     "text": [
      "(7326, 10) (3140, 10)\n"
     ]
    }
   ],
   "source": [
    "## Print Shape of Train and Test Dataset\n",
    "print(X_train.shape,X_test.shape)"
   ]
  },
  {
   "cell_type": "code",
   "execution_count": 277,
   "metadata": {},
   "outputs": [
    {
     "name": "stdout",
     "output_type": "stream",
     "text": [
      "0    6332\n",
      "1     994\n",
      "Name: Revenue, dtype: int64 \n",
      " 0    0.864319\n",
      "1    0.135681\n",
      "Name: Revenue, dtype: float64\n"
     ]
    }
   ],
   "source": [
    "## Revenue category proportion in train Dataset\n",
    "print(y_train.value_counts(),'\\n',y_train.value_counts(normalize=True))"
   ]
  },
  {
   "cell_type": "markdown",
   "metadata": {},
   "source": [
    "## RandomForestClassifier"
   ]
  },
  {
   "cell_type": "code",
   "execution_count": 278,
   "metadata": {},
   "outputs": [
    {
     "name": "stdout",
     "output_type": "stream",
     "text": [
      "Classification Report on Test Data :               precision    recall  f1-score   support\n",
      "\n",
      "           0       0.94      0.97      0.96      2714\n",
      "           1       0.76      0.61      0.68       426\n",
      "\n",
      "    accuracy                           0.92      3140\n",
      "   macro avg       0.85      0.79      0.82      3140\n",
      "weighted avg       0.92      0.92      0.92      3140\n",
      "\n",
      "Accuracy Score on Test Data :  0.921656050955414\n"
     ]
    }
   ],
   "source": [
    "rfclf = RandomForestClassifier()\n",
    "\n",
    "rfclf.fit(X_train,y_train)\n",
    "pred = rfclf.predict(X_test)\n",
    "print('Classification Report on Test Data :',classification_report(y_test,pred))\n",
    "print('Accuracy Score on Test Data : ',accuracy_score(y_test,pred))"
   ]
  },
  {
   "cell_type": "markdown",
   "metadata": {},
   "source": [
    "#### Cross Validation "
   ]
  },
  {
   "cell_type": "code",
   "execution_count": 279,
   "metadata": {},
   "outputs": [
    {
     "name": "stdout",
     "output_type": "stream",
     "text": [
      "Minimum accuray rate 0.9139931740614334\n"
     ]
    }
   ],
   "source": [
    "print('Minimum accuray rate',cross_val_score(rfclf,X_train,y_train, cv=5, scoring = 'accuracy').min())"
   ]
  },
  {
   "cell_type": "markdown",
   "metadata": {},
   "source": [
    "### Hyperparameter Tunning "
   ]
  },
  {
   "cell_type": "code",
   "execution_count": 280,
   "metadata": {},
   "outputs": [
    {
     "name": "stdout",
     "output_type": "stream",
     "text": [
      "Fitting 3 folds for each of 10 candidates, totalling 30 fits\n",
      "Model with Best HyperParameter:  RandomForestClassifier(max_depth=39, max_features=9, min_samples_leaf=18,\n",
      "                       min_samples_split=9, n_estimators=679, random_state=0)\n",
      "best Accuracy score after Tunning : 0.9361445408219221\n"
     ]
    }
   ],
   "source": [
    "sm_rfc_tunned=RandomForestClassifier(n_estimators=100,random_state=0)\n",
    "hyperParam={'n_estimators':sp_randint(1,1000),\n",
    "        'max_features':sp_randint(1,18),\n",
    "        'max_depth': sp_randint(1,60),\n",
    "        'min_samples_split':sp_randint(2,40),\n",
    "        'min_samples_leaf':sp_randint(2,20),\n",
    "        'criterion':['gini','entropy']\n",
    "           }\n",
    "\n",
    "rsearch_rfc = RandomizedSearchCV(sm_rfc_tunned,hyperParam,cv=3,scoring='roc_auc',n_jobs=-1,verbose=1)\n",
    "\n",
    "rsearch_rfc.fit(X_train,y_train)\n",
    "print(\"Model with Best HyperParameter: \",rsearch_rfc.best_estimator_)\n",
    "print('best Accuracy score after Tunning :',rsearch_rfc.best_score_)"
   ]
  },
  {
   "cell_type": "code",
   "execution_count": 281,
   "metadata": {},
   "outputs": [
    {
     "name": "stdout",
     "output_type": "stream",
     "text": [
      "              precision    recall  f1-score   support\n",
      "\n",
      "           0       0.94      0.97      0.96      2714\n",
      "           1       0.76      0.63      0.69       426\n",
      "\n",
      "    accuracy                           0.92      3140\n",
      "   macro avg       0.85      0.80      0.82      3140\n",
      "weighted avg       0.92      0.92      0.92      3140\n",
      "\n",
      "0.9232484076433121\n"
     ]
    }
   ],
   "source": [
    "## choosing Model with Best parameter values after Hyperparameter Tunning\n",
    "rfclf = rsearch_rfc.best_estimator_\n",
    "\n",
    "rfclf.fit(X_train,y_train)\n",
    "pred = rfclf.predict(X_test)\n",
    "print(classification_report(y_test,pred))\n",
    "print(accuracy_score(y_test,pred))"
   ]
  },
  {
   "cell_type": "code",
   "execution_count": 282,
   "metadata": {},
   "outputs": [
    {
     "data": {
      "text/plain": [
       "array([[2629,   85],\n",
       "       [ 156,  270]], dtype=int64)"
      ]
     },
     "execution_count": 282,
     "metadata": {},
     "output_type": "execute_result"
    }
   ],
   "source": [
    "## Print Confussion martix\n",
    "confusion_matrix(y_test,pred)"
   ]
  },
  {
   "cell_type": "code",
   "execution_count": 283,
   "metadata": {},
   "outputs": [
    {
     "data": {
      "text/plain": [
       "Text(0.5, 15.0, 'Prdicted Class')"
      ]
     },
     "execution_count": 283,
     "metadata": {},
     "output_type": "execute_result"
    },
    {
     "data": {
      "image/png": "[encoded data removed]",
      "text/plain": [
       "<Figure size 432x288 with 2 Axes>"
      ]
     },
     "metadata": {},
     "output_type": "display_data"
    }
   ],
   "source": [
    "sns.heatmap(confusion_matrix(y_test,pred),annot = True,cmap='YlGnBu')\n",
    "\n",
    "plt.title('Confusion Matrix of Logistic Regression')\n",
    "plt.ylabel('Actual Class')\n",
    "plt.xlabel('Prdicted Class')"
   ]
  },
  {
   "cell_type": "markdown",
   "metadata": {},
   "source": [
    "## LogisticRegression"
   ]
  },
  {
   "cell_type": "code",
   "execution_count": 284,
   "metadata": {},
   "outputs": [
    {
     "name": "stdout",
     "output_type": "stream",
     "text": [
      "              precision    recall  f1-score   support\n",
      "\n",
      "           0       0.92      0.98      0.95      2714\n",
      "           1       0.79      0.45      0.57       426\n",
      "\n",
      "    accuracy                           0.91      3140\n",
      "   macro avg       0.85      0.72      0.76      3140\n",
      "weighted avg       0.90      0.91      0.90      3140\n",
      "\n",
      "Accuracy Score for Test Data: 0.9092356687898089\n"
     ]
    }
   ],
   "source": [
    "lregression = LogisticRegression()\n",
    "lregression.fit(X_train,y_train)\n",
    "pred_lr = lregression.predict(X_test)\n",
    "print(classification_report(y_test,pred_lr))\n",
    "print( 'Accuracy Score for Test Data:',accuracy_score(y_test,pred_lr))"
   ]
  },
  {
   "cell_type": "markdown",
   "metadata": {},
   "source": [
    "## Cross Validation "
   ]
  },
  {
   "cell_type": "code",
   "execution_count": 285,
   "metadata": {},
   "outputs": [
    {
     "name": "stdout",
     "output_type": "stream",
     "text": [
      "Minimum accuray rate on Train Dataset 0.8982935153583618\n"
     ]
    }
   ],
   "source": [
    "print('Minimum accuray rate on Train Dataset',cross_val_score(lregression,X_train,y_train, cv=5, scoring = 'accuracy').min())"
   ]
  },
  {
   "cell_type": "markdown",
   "metadata": {},
   "source": [
    "## Hyperparameter tunning"
   ]
  },
  {
   "cell_type": "code",
   "execution_count": 286,
   "metadata": {},
   "outputs": [
    {
     "name": "stdout",
     "output_type": "stream",
     "text": [
      "Best Accuracy: 0.9030849030849031\n",
      "Model with Best Hyperparameter LogisticRegression(C=1, solver='liblinear')\n"
     ]
    }
   ],
   "source": [
    "LR = LogisticRegression()\n",
    "penalty= ['l1', 'l2']\n",
    "C=[.001,.01,.1,1,10]\n",
    "solver=['liblinear','lbfgs','saga']\n",
    "hyperParam = [{'penalty':penalty,'C':C,'solver':solver,}]\n",
    "rsearch_LR = RandomizedSearchCV(LR ,param_distributions=hyperParam,cv=3,n_iter=200,n_jobs=-1,random_state=0)\n",
    "\n",
    "rsearch_LR.fit(X_train,y_train)\n",
    "print( 'Best Accuracy:',rsearch_LR.best_score_)\n",
    "print(\"Model with Best Hyperparameter\",rsearch_LR.best_estimator_)"
   ]
  },
  {
   "cell_type": "code",
   "execution_count": 287,
   "metadata": {},
   "outputs": [],
   "source": [
    "## choosing Best parameter values after Hyperparameter Tunning\n",
    "LR = rsearch_LR.best_estimator_"
   ]
  },
  {
   "cell_type": "code",
   "execution_count": 288,
   "metadata": {},
   "outputs": [
    {
     "name": "stdout",
     "output_type": "stream",
     "text": [
      "Classification Report on Test Data :\n",
      "\n",
      "               precision    recall  f1-score   support\n",
      "\n",
      "           0       0.92      0.98      0.95      2714\n",
      "           1       0.79      0.45      0.57       426\n",
      "\n",
      "    accuracy                           0.91      3140\n",
      "   macro avg       0.85      0.71      0.76      3140\n",
      "weighted avg       0.90      0.91      0.90      3140\n",
      "\n",
      "Accuracy Score on Test Dataset 90.85987261146497\n"
     ]
    }
   ],
   "source": [
    "LR.fit(X_train,y_train)\n",
    "y_pred= LR.predict(X_test)\n",
    "print('Classification Report on Test Data :\\n\\n',classification_report(y_test,y_pred))\n",
    "print('Accuracy Score on Test Dataset',accuracy_score(y_test,y_pred)*100)"
   ]
  },
  {
   "cell_type": "code",
   "execution_count": 289,
   "metadata": {},
   "outputs": [
    {
     "data": {
      "text/plain": [
       "array([[2662,   52],\n",
       "       [ 235,  191]], dtype=int64)"
      ]
     },
     "execution_count": 289,
     "metadata": {},
     "output_type": "execute_result"
    }
   ],
   "source": [
    "## Print Confussion martix\n",
    "confusion_matrix(y_test,y_pred)"
   ]
  },
  {
   "cell_type": "code",
   "execution_count": 290,
   "metadata": {},
   "outputs": [
    {
     "data": {
      "text/plain": [
       "Text(0.5, 15.0, 'Prdicted Class')"
      ]
     },
     "execution_count": 290,
     "metadata": {},
     "output_type": "execute_result"
    },
    {
     "data": {
      "image/png": "[encoded data removed]",
      "text/plain": [
       "<Figure size 432x288 with 2 Axes>"
      ]
     },
     "metadata": {},
     "output_type": "display_data"
    }
   ],
   "source": [
    "sns.heatmap(confusion_matrix(y_test,y_pred),annot = True,cmap='YlGnBu')\n",
    "plt.title('Confusion Matrix of Logistic Regression')\n",
    "plt.ylabel('Actual Class')\n",
    "plt.xlabel('Prdicted Class')"
   ]
  },
  {
   "cell_type": "markdown",
   "metadata": {},
   "source": [
    "## Support Vector Machine (SVM)"
   ]
  },
  {
   "cell_type": "code",
   "execution_count": 291,
   "metadata": {
    "scrolled": true
   },
   "outputs": [
    {
     "name": "stdout",
     "output_type": "stream",
     "text": [
      "              precision    recall  f1-score   support\n",
      "\n",
      "           0       0.94      0.98      0.96      2714\n",
      "           1       0.80      0.57      0.67       426\n",
      "\n",
      "    accuracy                           0.92      3140\n",
      "   macro avg       0.87      0.77      0.81      3140\n",
      "weighted avg       0.92      0.92      0.92      3140\n",
      "\n"
     ]
    },
    {
     "data": {
      "text/plain": [
       "0.9229299363057325"
      ]
     },
     "execution_count": 291,
     "metadata": {},
     "output_type": "execute_result"
    }
   ],
   "source": [
    "svm = SVC()\n",
    "svm.fit(X_train,y_train)\n",
    "pred_s= svm.predict(X_test)\n",
    "\n",
    "print(classification_report(y_test,pred_s))\n",
    "accuracy_score(y_test,pred_s)"
   ]
  },
  {
   "cell_type": "markdown",
   "metadata": {},
   "source": [
    "### Cross validation"
   ]
  },
  {
   "cell_type": "code",
   "execution_count": 292,
   "metadata": {
    "scrolled": true
   },
   "outputs": [
    {
     "name": "stdout",
     "output_type": "stream",
     "text": [
      "Minimum Accuracy Rate is on Train Data : 0.9098976109215017\n"
     ]
    }
   ],
   "source": [
    "print('Minimum Accuracy Rate is on Train Data :' ,cross_val_score(svm,X_train,y_train, cv=5, scoring ='accuracy').min())"
   ]
  },
  {
   "cell_type": "markdown",
   "metadata": {},
   "source": [
    "### Hyperparameter tunning"
   ]
  },
  {
   "cell_type": "code",
   "execution_count": 293,
   "metadata": {},
   "outputs": [
    {
     "name": "stdout",
     "output_type": "stream",
     "text": [
      "Model with Best HyperParameter:  SVC(C=100, gamma=0.01)\n",
      "\n",
      " Best Accuracy Score : 0.9131859131859131\n"
     ]
    }
   ],
   "source": [
    "# defining parameter range\n",
    "\n",
    "params = {'C': [0.1, 1, 10, 100],\n",
    "          'gamma': [1, 0.1, 0.01, 0.001, 0.0001], \n",
    "          'kernel': ['rbf']} \n",
    "rsearch_svm = RandomizedSearchCV(svm,param_distributions=params,cv=3,n_iter=200,n_jobs=-1)\n",
    "\n",
    "rsearch_svm.fit(X_train,y_train)\n",
    "print(\"Model with Best HyperParameter: \",rsearch_svm.best_estimator_)\n",
    "print('\\n Best Accuracy Score :',rsearch_svm.best_score_)"
   ]
  },
  {
   "cell_type": "code",
   "execution_count": 294,
   "metadata": {},
   "outputs": [
    {
     "data": {
      "text/plain": [
       "SVC(C=100, gamma=0.01)"
      ]
     },
     "execution_count": 294,
     "metadata": {},
     "output_type": "execute_result"
    }
   ],
   "source": [
    "## Choosing Best parameters\n",
    "svm = rsearch_svm.best_estimator_\n",
    "svm.fit(X_train, y_train)"
   ]
  },
  {
   "cell_type": "code",
   "execution_count": 295,
   "metadata": {},
   "outputs": [
    {
     "name": "stdout",
     "output_type": "stream",
     "text": [
      "Classification Report on Test Data\n",
      "               precision    recall  f1-score   support\n",
      "\n",
      "           0       0.94      0.98      0.96      2714\n",
      "           1       0.80      0.57      0.67       426\n",
      "\n",
      "    accuracy                           0.92      3140\n",
      "   macro avg       0.87      0.77      0.81      3140\n",
      "weighted avg       0.92      0.92      0.92      3140\n",
      "\n",
      "\n",
      " Accuray score on Test data :\t 0.9229299363057325\n"
     ]
    }
   ],
   "source": [
    "pred_svm = svm.predict(X_test)\n",
    "\n",
    "# print classification report\n",
    "print('Classification Report on Test Data\\n',classification_report(y_test,pred_s))\n",
    "print('\\n Accuray score on Test data :\\t',accuracy_score(y_test,pred_s))"
   ]
  },
  {
   "cell_type": "code",
   "execution_count": 296,
   "metadata": {},
   "outputs": [
    {
     "data": {
      "text/plain": [
       "array([[2642,   72],\n",
       "       [ 177,  249]], dtype=int64)"
      ]
     },
     "execution_count": 296,
     "metadata": {},
     "output_type": "execute_result"
    }
   ],
   "source": [
    "## Print Confussion martix\n",
    "confusion_matrix(y_test,pred_svm)"
   ]
  },
  {
   "cell_type": "code",
   "execution_count": 297,
   "metadata": {},
   "outputs": [
    {
     "data": {
      "text/plain": [
       "Text(0.5, 15.0, 'Prdicted Class')"
      ]
     },
     "execution_count": 297,
     "metadata": {},
     "output_type": "execute_result"
    },
    {
     "data": {
      "image/png": "[encoded data removed]",
      "text/plain": [
       "<Figure size 432x288 with 2 Axes>"
      ]
     },
     "metadata": {},
     "output_type": "display_data"
    }
   ],
   "source": [
    "sns.heatmap(confusion_matrix(y_test,pred_svm),annot = True,cmap='YlGnBu')\n",
    "plt.title('Confusion Matrix of Support Vector Machine')\n",
    "plt.ylabel('Actual Class')\n",
    "plt.xlabel('Prdicted Class')"
   ]
  },
  {
   "cell_type": "markdown",
   "metadata": {},
   "source": [
    "## KNearestNeighbors (KNN)"
   ]
  },
  {
   "cell_type": "markdown",
   "metadata": {},
   "source": [
    "### Hyperparameter Tunning "
   ]
  },
  {
   "cell_type": "code",
   "execution_count": 298,
   "metadata": {},
   "outputs": [
    {
     "name": "stdout",
     "output_type": "stream",
     "text": [
      "Model with Best HyperParameter:  KNeighborsClassifier(n_neighbors=88)\n",
      "Best Acccuracy Score after tunning :  0.8790791184639429\n"
     ]
    }
   ],
   "source": [
    "knn = KNeighborsClassifier()\n",
    "\n",
    "# defining parameter range\n",
    "params={'n_neighbors':sp_randint(1,100)}\n",
    "\n",
    "rsearch_knn =RandomizedSearchCV(knn,params,cv=3,scoring='roc_auc',n_jobs=-1,random_state=0)\n",
    "rsearch_knn.fit(X_train,y_train)\n",
    "print(\"Model with Best HyperParameter: \",rsearch_knn.best_estimator_)\n",
    "print('Best Acccuracy Score after tunning : ',rsearch_knn.best_score_)"
   ]
  },
  {
   "cell_type": "code",
   "execution_count": 299,
   "metadata": {},
   "outputs": [
    {
     "name": "stdout",
     "output_type": "stream",
     "text": [
      "Classification Report :\n",
      "               precision    recall  f1-score   support\n",
      "\n",
      "           0       0.91      0.99      0.95      2714\n",
      "           1       0.86      0.38      0.53       426\n",
      "\n",
      "    accuracy                           0.91      3140\n",
      "   macro avg       0.88      0.69      0.74      3140\n",
      "weighted avg       0.90      0.91      0.89      3140\n",
      "\n",
      "Accuracy Score on test data : 0.9073248407643312\n"
     ]
    }
   ],
   "source": [
    "## Choosing model with Best parameter \n",
    "knn = rsearch_knn.best_estimator_\n",
    "knn.fit(X_train,y_train)\n",
    "pred_k = knn.predict(X_test)\n",
    "print('Classification Report :\\n',classification_report(y_test,pred_k))\n",
    "print('Accuracy Score on test data :',accuracy_score(y_test,pred_k))"
   ]
  },
  {
   "cell_type": "code",
   "execution_count": 300,
   "metadata": {},
   "outputs": [
    {
     "data": {
      "text/plain": [
       "array([[2687,   27],\n",
       "       [ 264,  162]], dtype=int64)"
      ]
     },
     "execution_count": 300,
     "metadata": {},
     "output_type": "execute_result"
    }
   ],
   "source": [
    "## Print Confussion martix\n",
    "confusion_matrix(y_test,pred_k)"
   ]
  },
  {
   "cell_type": "code",
   "execution_count": 301,
   "metadata": {},
   "outputs": [
    {
     "data": {
      "text/plain": [
       "Text(0.5, 15.0, 'Prdicted Class')"
      ]
     },
     "execution_count": 301,
     "metadata": {},
     "output_type": "execute_result"
    },
    {
     "data": {
      "image/png": "[encoded data removed]",
      "text/plain": [
       "<Figure size 432x288 with 2 Axes>"
      ]
     },
     "metadata": {},
     "output_type": "display_data"
    }
   ],
   "source": [
    "sns.heatmap(confusion_matrix(y_test,pred_k),annot = True,cmap='Blues')\n",
    "plt.title('Confusion Matrix of KNearestNeighbors')\n",
    "plt.ylabel('Actual Class')\n",
    "plt.xlabel('Prdicted Class')"
   ]
  },
  {
   "cell_type": "markdown",
   "metadata": {},
   "source": [
    "### We are getting almost same level of Accuracy  from all above model after Hyoerparameter Tunning, but Recall values for Revenue when it is True is better in randomforest Model than other model which we tested, we need higher Recall value for Revenue when it is True, so that we can target the potential customer more efficiently. but it is still low recall value.\n",
    "\n",
    "- Reson for low Recall value for revenue when it is  True is Imabalance Dataset\n",
    "- So We have to handle this imbalance Data\n",
    "- I am choosing SMOTE (synthetic minority oversampling technique)"
   ]
  },
  {
   "cell_type": "markdown",
   "metadata": {},
   "source": [
    "## Model After SMOTE"
   ]
  },
  {
   "cell_type": "code",
   "execution_count": 302,
   "metadata": {},
   "outputs": [
    {
     "name": "stdout",
     "output_type": "stream",
     "text": [
      "(7326, 10) (3140, 10)\n"
     ]
    }
   ],
   "source": [
    "print(X_train.shape,X_test.shape)"
   ]
  },
  {
   "cell_type": "code",
   "execution_count": 303,
   "metadata": {},
   "outputs": [],
   "source": [
    "## Applying SMOTE Technique\n",
    "\n",
    "smote=SMOTE(sampling_strategy='minority',random_state=3)\n",
    "\n",
    "X_train_sm,y_train_sm= smote.fit_resample(X_train,y_train)"
   ]
  },
  {
   "cell_type": "code",
   "execution_count": 304,
   "metadata": {},
   "outputs": [
    {
     "name": "stdout",
     "output_type": "stream",
     "text": [
      "(12664, 10) (12664,)\n"
     ]
    }
   ],
   "source": [
    "print(X_train_sm.shape,y_train_sm.shape)"
   ]
  },
  {
   "cell_type": "code",
   "execution_count": 305,
   "metadata": {},
   "outputs": [
    {
     "data": {
      "text/plain": [
       "0    6332\n",
       "1     994\n",
       "Name: Revenue, dtype: int64"
      ]
     },
     "execution_count": 305,
     "metadata": {},
     "output_type": "execute_result"
    }
   ],
   "source": [
    "#Target before smote\n",
    "y_train.value_counts()"
   ]
  },
  {
   "cell_type": "code",
   "execution_count": 306,
   "metadata": {},
   "outputs": [
    {
     "data": {
      "text/plain": [
       "1    6332\n",
       "0    6332\n",
       "Name: Revenue, dtype: int64"
      ]
     },
     "execution_count": 306,
     "metadata": {},
     "output_type": "execute_result"
    }
   ],
   "source": [
    "#Target After smote\n",
    "y_train_sm.value_counts()"
   ]
  },
  {
   "cell_type": "markdown",
   "metadata": {},
   "source": [
    "## Random Forest"
   ]
  },
  {
   "cell_type": "code",
   "execution_count": 307,
   "metadata": {},
   "outputs": [],
   "source": [
    "rfc_sm=RandomForestClassifier(n_estimators=100,random_state=0)"
   ]
  },
  {
   "cell_type": "code",
   "execution_count": 308,
   "metadata": {},
   "outputs": [
    {
     "name": "stdout",
     "output_type": "stream",
     "text": [
      "Best Accuracy Score After Tunning:  0.9871586406649563\n",
      "\n",
      " Model with Best HyperParameter:\n",
      "  RandomForestClassifier(criterion='entropy', max_depth=29, max_features=3,\n",
      "                       min_samples_leaf=2, n_estimators=1078, random_state=0)\n"
     ]
    }
   ],
   "source": [
    "## Hyperparameter Tunning\n",
    "\n",
    "sm_rfc_tunned=RandomForestClassifier(n_estimators=100,random_state=0)\n",
    "params={'n_estimators':sp_randint(1,1200),\n",
    "        'max_features':sp_randint(1,18),\n",
    "        'max_depth': sp_randint(1,60),\n",
    "        'min_samples_split':sp_randint(2,40),\n",
    "        'min_samples_leaf':sp_randint(2,20),\n",
    "        'criterion':['gini','entropy']}\n",
    "\n",
    "rsearch_rfc_sm=RandomizedSearchCV(sm_rfc_tunned,params,cv=3,scoring='roc_auc',n_jobs=-1,random_state=0)\n",
    "\n",
    "rsearch_rfc_sm.fit(X_train_sm,y_train_sm)\n",
    "\n",
    "print('Best Accuracy Score After Tunning: ',rsearch_rfc_sm.best_score_)\n",
    "print(\"\\n Model with Best HyperParameter:\\n \",rsearch_rfc_sm.best_estimator_)"
   ]
  },
  {
   "cell_type": "code",
   "execution_count": 309,
   "metadata": {},
   "outputs": [
    {
     "data": {
      "text/plain": [
       "RandomForestClassifier(criterion='entropy', max_depth=29, max_features=3,\n",
       "                       min_samples_leaf=2, n_estimators=1078, random_state=0)"
      ]
     },
     "execution_count": 309,
     "metadata": {},
     "output_type": "execute_result"
    }
   ],
   "source": [
    "## Choosing best Hyperparameter after Hyperparameter Tunning\n",
    "\n",
    "rfc_tunned_sm = rsearch_rfc_sm.best_estimator_\n",
    "rfc_tunned_sm.fit(X_train_sm,y_train_sm)"
   ]
  },
  {
   "cell_type": "code",
   "execution_count": 310,
   "metadata": {},
   "outputs": [
    {
     "name": "stdout",
     "output_type": "stream",
     "text": [
      "Classification report on Test Data :\n",
      "               precision    recall  f1-score   support\n",
      "\n",
      "           0       0.96      0.94      0.95      2714\n",
      "           1       0.67      0.75      0.71       426\n",
      "\n",
      "    accuracy                           0.92      3140\n",
      "   macro avg       0.82      0.85      0.83      3140\n",
      "weighted avg       0.92      0.92      0.92      3140\n",
      "\n",
      "Acccuracy Rate on Test data:\t 0.9165605095541401\n"
     ]
    }
   ],
   "source": [
    "pred_rfc = rfc_tunned_sm.predict(X_test)\n",
    "print('Classification report on Test Data :\\n',classification_report(y_test,pred_rfc))\n",
    "print('Acccuracy Rate on Test data:\\t',accuracy_score(y_test,pred_rfc))"
   ]
  },
  {
   "cell_type": "code",
   "execution_count": 311,
   "metadata": {},
   "outputs": [
    {
     "data": {
      "text/plain": [
       "array([[2559,  155],\n",
       "       [ 107,  319]], dtype=int64)"
      ]
     },
     "execution_count": 311,
     "metadata": {},
     "output_type": "execute_result"
    }
   ],
   "source": [
    "confusion_matrix(y_test,pred_rfc)"
   ]
  },
  {
   "cell_type": "code",
   "execution_count": 312,
   "metadata": {},
   "outputs": [
    {
     "data": {
      "text/plain": [
       "Text(0.5, 15.0, 'Prdicted Class')"
      ]
     },
     "execution_count": 312,
     "metadata": {},
     "output_type": "execute_result"
    },
    {
     "data": {
      "image/png": "[encoded data removed]",
      "text/plain": [
       "<Figure size 432x288 with 2 Axes>"
      ]
     },
     "metadata": {},
     "output_type": "display_data"
    }
   ],
   "source": [
    "sns.heatmap(confusion_matrix(y_test,pred_rfc),annot = True,cmap='Blues')\n",
    "plt.title('Confusion Matrix of KNearestNeighbors')\n",
    "plt.ylabel('Actual Class')\n",
    "plt.xlabel('Prdicted Class')"
   ]
  },
  {
   "cell_type": "markdown",
   "metadata": {},
   "source": [
    "## LogisticRegression"
   ]
  },
  {
   "cell_type": "code",
   "execution_count": 313,
   "metadata": {},
   "outputs": [],
   "source": [
    "LR_tunned_sm=LogisticRegression()"
   ]
  },
  {
   "cell_type": "code",
   "execution_count": 314,
   "metadata": {},
   "outputs": [
    {
     "name": "stdout",
     "output_type": "stream",
     "text": [
      "0.8488629540334539\n",
      "Best Hyperparameter Model LogisticRegression(C=0.01, penalty='l1', solver='liblinear')\n"
     ]
    }
   ],
   "source": [
    "## Hyperparameter parameter Tunning\n",
    "\n",
    "penalty= ['l1', 'l2']\n",
    "C=[.001,.01,.1,1,10]\n",
    "solver=['liblinear','lbfgs','saga']\n",
    "hyperParam = [{'penalty':penalty,'C':C,'solver':solver,}]\n",
    "rsearch_LR_sm=RandomizedSearchCV(LR_tunned_sm,param_distributions=hyperParam,cv=3,n_iter=200,n_jobs=-1,random_state=0)\n",
    "\n",
    "rsearch_LR_sm.fit(X_train_sm,y_train_sm)\n",
    "print(rsearch_LR_sm.best_score_)\n",
    "print(\"Best Hyperparameter Model\",rsearch_LR_sm.best_estimator_)"
   ]
  },
  {
   "cell_type": "code",
   "execution_count": 315,
   "metadata": {},
   "outputs": [
    {
     "name": "stdout",
     "output_type": "stream",
     "text": [
      "Classification reporrt on Test Data :\n",
      "               precision    recall  f1-score   support\n",
      "\n",
      "           0       0.96      0.94      0.95      2714\n",
      "           1       0.66      0.75      0.70       426\n",
      "\n",
      "    accuracy                           0.91      3140\n",
      "   macro avg       0.81      0.84      0.82      3140\n",
      "weighted avg       0.92      0.91      0.91      3140\n",
      "\n",
      "Acccuracy Rate on Test data:\t 0.9124203821656051\n"
     ]
    }
   ],
   "source": [
    "## Choosing Best Hyperparameter after Tunning\n",
    "\n",
    "LR_tunned_sm = rsearch_LR_sm.best_estimator_\n",
    "LR_tunned_sm.fit(X_train_sm,y_train_sm)\n",
    "pred_LR= LR_tunned_sm.predict(X_test)\n",
    "print('Classification reporrt on Test Data :\\n',classification_report(y_test,pred_LR))\n",
    "print('Acccuracy Rate on Test data:\\t',accuracy_score(y_test,pred_LR))"
   ]
  },
  {
   "cell_type": "code",
   "execution_count": 316,
   "metadata": {},
   "outputs": [
    {
     "data": {
      "text/plain": [
       "array([[2546,  168],\n",
       "       [ 107,  319]], dtype=int64)"
      ]
     },
     "execution_count": 316,
     "metadata": {},
     "output_type": "execute_result"
    }
   ],
   "source": [
    "## Print Confussion martix\n",
    "confusion_matrix(y_test,pred_LR)"
   ]
  },
  {
   "cell_type": "code",
   "execution_count": 317,
   "metadata": {},
   "outputs": [
    {
     "data": {
      "text/plain": [
       "Text(0.5, 15.0, 'Prdicted Class')"
      ]
     },
     "execution_count": 317,
     "metadata": {},
     "output_type": "execute_result"
    },
    {
     "data": {
      "image/png": "[encoded data removed]",
      "text/plain": [
       "<Figure size 432x288 with 2 Axes>"
      ]
     },
     "metadata": {},
     "output_type": "display_data"
    }
   ],
   "source": [
    "sns.heatmap(confusion_matrix(y_test,pred_LR),annot = True,cmap='Blues')\n",
    "plt.title('Confusion Matrix of LogisticRegression')\n",
    "plt.ylabel('Actual Class')\n",
    "plt.xlabel('Prdicted Class')"
   ]
  },
  {
   "cell_type": "markdown",
   "metadata": {},
   "source": [
    "## SVM"
   ]
  },
  {
   "cell_type": "code",
   "execution_count": 318,
   "metadata": {},
   "outputs": [
    {
     "name": "stdout",
     "output_type": "stream",
     "text": [
      "Best HyperParameter:  {'kernel': 'rbf', 'gamma': 1, 'C': 100}\n",
      "0.9521474646123783\n"
     ]
    }
   ],
   "source": [
    "## Hyperparameter parameter Tunning\n",
    "\n",
    "SVM_tunned_sm= SVC(random_state=0,probability=True)\n",
    "params = {'C': [0.1, 1, 10, 100],\n",
    "          'gamma': [1, 0.1, 0.01, 0.001, 0.0001], \n",
    "          'kernel': ['rbf']} \n",
    "rsearch_svm_sm=RandomizedSearchCV(SVM_tunned_sm,param_distributions=params,cv=3,n_iter=200,n_jobs=-1,random_state=0)\n",
    "\n",
    "rsearch_svm_sm.fit(X_train_sm,y_train_sm)\n",
    "print(\"Best HyperParameter: \",rsearch_svm_sm.best_params_)\n",
    "print(rsearch_svm_sm.best_score_)"
   ]
  },
  {
   "cell_type": "code",
   "execution_count": 319,
   "metadata": {},
   "outputs": [
    {
     "name": "stdout",
     "output_type": "stream",
     "text": [
      "Model with Best Estimatores : SVC(C=100, gamma=1, probability=True, random_state=0)\n"
     ]
    }
   ],
   "source": [
    "## Best paramesters\n",
    "print('Model with Best Estimatores :',rsearch_svm_sm.best_estimator_)"
   ]
  },
  {
   "cell_type": "code",
   "execution_count": 320,
   "metadata": {},
   "outputs": [
    {
     "name": "stdout",
     "output_type": "stream",
     "text": [
      "Classification reporrt on Test Data :\n",
      "               precision    recall  f1-score   support\n",
      "\n",
      "           0       0.92      0.94      0.93      2714\n",
      "           1       0.53      0.45      0.49       426\n",
      "\n",
      "    accuracy                           0.87      3140\n",
      "   macro avg       0.72      0.69      0.71      3140\n",
      "weighted avg       0.86      0.87      0.87      3140\n",
      "\n",
      "Acccuracy Rate on Test data:\t 0.8719745222929937\n"
     ]
    }
   ],
   "source": [
    "## Choosing Best Parameters\n",
    "\n",
    "SVM_tunned_sm = rsearch_svm_sm.best_estimator_\n",
    "SVM_tunned_sm.fit(X_train_sm,y_train_sm)\n",
    "pred_sm = SVM_tunned_sm.predict(X_test)\n",
    "print('Classification reporrt on Test Data :\\n',classification_report(y_test,pred_sm))\n",
    "print('Acccuracy Rate on Test data:\\t',accuracy_score(y_test,pred_sm))"
   ]
  },
  {
   "cell_type": "code",
   "execution_count": 321,
   "metadata": {},
   "outputs": [
    {
     "data": {
      "text/plain": [
       "array([[2546,  168],\n",
       "       [ 234,  192]], dtype=int64)"
      ]
     },
     "execution_count": 321,
     "metadata": {},
     "output_type": "execute_result"
    }
   ],
   "source": [
    "## Print Confussion martix\n",
    "confusion_matrix(y_test,pred_sm)"
   ]
  },
  {
   "cell_type": "code",
   "execution_count": 322,
   "metadata": {},
   "outputs": [
    {
     "data": {
      "text/plain": [
       "Text(0.5, 15.0, 'Prdicted Class')"
      ]
     },
     "execution_count": 322,
     "metadata": {},
     "output_type": "execute_result"
    },
    {
     "data": {
      "image/png": "[encoded data removed]",
      "text/plain": [
       "<Figure size 432x288 with 2 Axes>"
      ]
     },
     "metadata": {},
     "output_type": "display_data"
    }
   ],
   "source": [
    "sns.heatmap(confusion_matrix(y_test,pred_sm),annot = True,cmap='Blues')\n",
    "plt.title('Confusion Matrix of SVM')\n",
    "plt.ylabel('Actual Class')\n",
    "plt.xlabel('Prdicted Class')"
   ]
  },
  {
   "cell_type": "markdown",
   "metadata": {},
   "source": [
    "##  KNN"
   ]
  },
  {
   "cell_type": "code",
   "execution_count": 323,
   "metadata": {},
   "outputs": [
    {
     "name": "stdout",
     "output_type": "stream",
     "text": [
      "Best HyperParameter:  {'n_neighbors': 10}\n",
      "0.9541965998346088\n"
     ]
    }
   ],
   "source": [
    "## Hyperparameter Tunning of KNN\n",
    "\n",
    "sm_knn_tunned= KNeighborsClassifier()\n",
    "\n",
    "params={'n_neighbors':sp_randint(1,100)}\n",
    "\n",
    "rsearch_knn_sm=RandomizedSearchCV(sm_knn_tunned,params,cv=3,scoring='roc_auc',n_jobs=-1,random_state=0)\n",
    "rsearch_knn_sm.fit(X_train_sm,y_train_sm)\n",
    "print(\"Best HyperParameter: \",rsearch_knn_sm.best_params_)\n",
    "print(rsearch_knn_sm.best_score_)"
   ]
  },
  {
   "cell_type": "code",
   "execution_count": 324,
   "metadata": {},
   "outputs": [
    {
     "name": "stdout",
     "output_type": "stream",
     "text": [
      "Model with Best Estimatores : KNeighborsClassifier(n_neighbors=10)\n"
     ]
    }
   ],
   "source": [
    "print('Model with Best Estimatores :',rsearch_knn_sm.best_estimator_)"
   ]
  },
  {
   "cell_type": "code",
   "execution_count": 325,
   "metadata": {},
   "outputs": [
    {
     "name": "stdout",
     "output_type": "stream",
     "text": [
      "Classification reporrt on Test Data :\n",
      "               precision    recall  f1-score   support\n",
      "\n",
      "           0       0.96      0.84      0.89      2714\n",
      "           1       0.43      0.75      0.54       426\n",
      "\n",
      "    accuracy                           0.83      3140\n",
      "   macro avg       0.69      0.80      0.72      3140\n",
      "weighted avg       0.88      0.83      0.85      3140\n",
      "\n",
      "Acccuracy Rate on Test data:\t 0.8289808917197452\n"
     ]
    }
   ],
   "source": [
    "## Choosing Model with Best Parameters\n",
    "\n",
    "sm_knn_tunned= rsearch_knn_sm.best_estimator_\n",
    "sm_knn_tunned.fit(X_train_sm,y_train_sm)\n",
    "pred_k = sm_knn_tunned.predict(X_test)\n",
    "print('Classification reporrt on Test Data :\\n',classification_report(y_test,pred_k))\n",
    "print('Acccuracy Rate on Test data:\\t',accuracy_score(y_test,pred_k))"
   ]
  },
  {
   "cell_type": "code",
   "execution_count": 326,
   "metadata": {},
   "outputs": [
    {
     "data": {
      "text/plain": [
       "array([[2546,  168],\n",
       "       [ 234,  192]], dtype=int64)"
      ]
     },
     "execution_count": 326,
     "metadata": {},
     "output_type": "execute_result"
    }
   ],
   "source": [
    "## Print Confussion martix\n",
    "confusion_matrix(y_test,pred_sm)"
   ]
  },
  {
   "cell_type": "code",
   "execution_count": 327,
   "metadata": {},
   "outputs": [
    {
     "data": {
      "text/plain": [
       "Text(0.5, 15.0, 'Prdicted Class')"
      ]
     },
     "execution_count": 327,
     "metadata": {},
     "output_type": "execute_result"
    },
    {
     "data": {
      "image/png": "[encoded data removed]",
      "text/plain": [
       "<Figure size 432x288 with 2 Axes>"
      ]
     },
     "metadata": {},
     "output_type": "display_data"
    }
   ],
   "source": [
    "sns.heatmap(confusion_matrix(y_test,pred_k),annot = True,cmap='Blues')\n",
    "plt.title('Confusion Matrix of SVM')\n",
    "plt.ylabel('Actual Class')\n",
    "plt.xlabel('Prdicted Class')"
   ]
  },
  {
   "cell_type": "markdown",
   "metadata": {},
   "source": [
    "## SMOTE Model Results"
   ]
  },
  {
   "cell_type": "code",
   "execution_count": 328,
   "metadata": {},
   "outputs": [],
   "source": [
    "models_sm = [('KNN',sm_knn_tunned),('SVM',SVM_tunned_sm),('LogisticRegresion',LR_tunned_sm),('RandomForest',rfc_tunned_sm)]"
   ]
  },
  {
   "cell_type": "code",
   "execution_count": 329,
   "metadata": {},
   "outputs": [],
   "source": [
    "acc_train_sm=[]\n",
    "auc_train_sm=[]\n",
    "\n",
    "acc_test_sm=[]\n",
    "auc_test_sm=[]\n",
    "names_sm=[]\n",
    "def model_eval(name,algo, Xtrain,ytrain,Xtest,ytest):\n",
    "    names_sm.append(name)    \n",
    "    \n",
    "    algo.fit(Xtrain,ytrain)\n",
    "    ytrain_pred =algo.predict(Xtrain)\n",
    "    ytrain_prob = algo.predict_proba(Xtrain)[:,1]\n",
    "\n",
    "    acc_train_sm.append(accuracy_score(ytrain, ytrain_pred))\n",
    "    auc_train_sm.append(roc_auc_score(ytrain, ytrain_prob))\n",
    "\n",
    "    ytest_pred = algo.predict(Xtest)\n",
    "    ytest_prob = algo.predict_proba(Xtest)[:,1]\n",
    "\n",
    "    acc_test_sm.append(accuracy_score(ytest, ytest_pred))\n",
    "    auc_test_sm.append(roc_auc_score(ytest, ytest_prob))"
   ]
  },
  {
   "cell_type": "code",
   "execution_count": 330,
   "metadata": {},
   "outputs": [],
   "source": [
    "for name,algo in models_sm:\n",
    "    model_eval(name,algo,X_train_sm,y_train_sm,X_test,y_test)"
   ]
  },
  {
   "cell_type": "code",
   "execution_count": 331,
   "metadata": {},
   "outputs": [],
   "source": [
    "result_sm_df=pd.DataFrame({'Model':names_sm,\n",
    "                           \n",
    "                           'Accuracy Score Train':acc_train_sm,\n",
    "                           'ROC-AUC Score Train':auc_train_sm,\n",
    "                           \n",
    "                           'Accuracy Score Test':acc_test_sm,\n",
    "                           'ROC-AUC Score Test':auc_test_sm\n",
    "                            })"
   ]
  },
  {
   "cell_type": "code",
   "execution_count": 332,
   "metadata": {},
   "outputs": [
    {
     "data": {
      "text/html": [
       "<div>\n",
       "<style scoped>\n",
       "    .dataframe tbody tr th:only-of-type {\n",
       "        vertical-align: middle;\n",
       "    }\n",
       "\n",
       "    .dataframe tbody tr th {\n",
       "        vertical-align: top;\n",
       "    }\n",
       "\n",
       "    .dataframe thead th {\n",
       "        text-align: right;\n",
       "    }\n",
       "</style>\n",
       "<table border=\"1\" class=\"dataframe\">\n",
       "  <thead>\n",
       "    <tr style=\"text-align: right;\">\n",
       "      <th></th>\n",
       "      <th>Model</th>\n",
       "      <th>Accuracy Score Train</th>\n",
       "      <th>ROC-AUC Score Train</th>\n",
       "      <th>Accuracy Score Test</th>\n",
       "      <th>ROC-AUC Score Test</th>\n",
       "    </tr>\n",
       "  </thead>\n",
       "  <tbody>\n",
       "    <tr>\n",
       "      <th>0</th>\n",
       "      <td>KNN</td>\n",
       "      <td>0.920483</td>\n",
       "      <td>0.985731</td>\n",
       "      <td>0.828981</td>\n",
       "      <td>0.870468</td>\n",
       "    </tr>\n",
       "    <tr>\n",
       "      <th>1</th>\n",
       "      <td>SVM</td>\n",
       "      <td>0.999052</td>\n",
       "      <td>0.999812</td>\n",
       "      <td>0.871975</td>\n",
       "      <td>0.838803</td>\n",
       "    </tr>\n",
       "    <tr>\n",
       "      <th>2</th>\n",
       "      <td>LogisticRegresion</td>\n",
       "      <td>0.849021</td>\n",
       "      <td>0.907791</td>\n",
       "      <td>0.912420</td>\n",
       "      <td>0.887671</td>\n",
       "    </tr>\n",
       "    <tr>\n",
       "      <th>3</th>\n",
       "      <td>RandomForest</td>\n",
       "      <td>0.994709</td>\n",
       "      <td>0.999888</td>\n",
       "      <td>0.916561</td>\n",
       "      <td>0.936186</td>\n",
       "    </tr>\n",
       "  </tbody>\n",
       "</table>\n",
       "</div>"
      ],
      "text/plain": [
       "               Model  Accuracy Score Train  ROC-AUC Score Train  \\\n",
       "0                KNN              0.920483             0.985731   \n",
       "1                SVM              0.999052             0.999812   \n",
       "2  LogisticRegresion              0.849021             0.907791   \n",
       "3       RandomForest              0.994709             0.999888   \n",
       "\n",
       "   Accuracy Score Test  ROC-AUC Score Test  \n",
       "0             0.828981            0.870468  \n",
       "1             0.871975            0.838803  \n",
       "2             0.912420            0.887671  \n",
       "3             0.916561            0.936186  "
      ]
     },
     "execution_count": 332,
     "metadata": {},
     "output_type": "execute_result"
    }
   ],
   "source": [
    "result_sm_df"
   ]
  },
  {
   "cell_type": "markdown",
   "metadata": {},
   "source": [
    "### Conclusion :\n",
    "\n",
    "- We ere getting almost same level of Accuracy even after using SMOTE Technique on Test Dataset, but we get little improvment in Recall Value of Revenue When it is True. Randomforedest Model seem better in term of predect the Test Data and have higher Recall value.So, we we will use Randomforest for Deployment."
   ]
  },
  {
   "cell_type": "markdown",
   "metadata": {},
   "source": [
    "- In 2021, an estimated 2.14 billion people worldwide are expected to purchase goods online  ( https://www.statista.com/statistics/251666/number-of-digital-buyers-worldwide/ ). If these online shopping statistics, projections show that ecommerce sales worldwide are going to grow to 6.4 trillion USD by 2024.Clearly, being able to predict e-commerce sales from online traffic would prove to be beneficial for any company.\n",
    "\n",
    "### insight \n",
    "\n",
    "- Looking at our results, companies should focus on improving mobility between pages to encourage users to browse among different products as Page Value was one of the most important features in determining whether a purchase would be made.\n",
    "- certain months such as May and November had a greater frequency in purchases meaning that e-commerce companies should capitalize in these months and provide additional sales and deals to encourage product sales. \n",
    "\n",
    "- customers who are interested on buying the products :\n",
    "- Tend to stay longer on the website especially when they are on the website which is productrelated.\n",
    "- Less likely to bounce or exit\n",
    "- Have strong Correlation with the PageValues\n",
    "- Therefore, in order to increase the customers who generates the profits, the business should find a way to decrease the BounceRates and ExitRates and improve on the quality of the page."
   ]
  }
 ],
 "metadata": {
  "kernelspec": {
   "display_name": "Python 3",
   "language": "python",
   "name": "python3"
  },
  "language_info": {
   "codemirror_mode": {
    "name": "ipython",
    "version": 3
   },
   "file_extension": ".py",
   "mimetype": "text/x-python",
   "name": "python",
   "nbconvert_exporter": "python",
   "pygments_lexer": "ipython3",
   "version": "3.8.5"
  }
 },
 "nbformat": 4,
 "nbformat_minor": 4
}
