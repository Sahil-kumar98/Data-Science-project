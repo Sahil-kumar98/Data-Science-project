{
 "cells": [
  {
   "cell_type": "markdown",
   "metadata": {},
   "source": [
    "# Study of mobile banking and challenges in India"
   ]
  },
  {
   "cell_type": "markdown",
   "metadata": {},
   "source": [
    "- it is a term paper in M.Sc Economics course, IIT Roorkee\n",
    "- Subject name - Financial Economics\n",
    "- guide : prof Manish K. Singh\n"
   ]
  },
  {
   "cell_type": "markdown",
   "metadata": {},
   "source": [
    "## Topic of project \n",
    "- To study about the benefits and limitations of mobile banking. \n",
    "- To identify the problems faced by the customers through mobile banking.\n"
   ]
  },
  {
   "cell_type": "markdown",
   "metadata": {},
   "source": [
    "## Research questions\n",
    "\n",
    "- What are the convincing feature that make people to use Mobile Banking.\n",
    "- User percentage across different Education level : Does Education level metters ?\n",
    "- What are the most concern thing about mobile Banking for non user ?\n",
    "- Does Age-Group matters ?"
   ]
  },
  {
   "cell_type": "code",
   "execution_count": 1,
   "metadata": {},
   "outputs": [],
   "source": [
    "import pandas as pd\n",
    "import numpy as np\n",
    "import seaborn as sns\n",
    "import matplotlib.pyplot as plt\n",
    "import regex as re\n",
    "%matplotlib inline\n",
    "pd.set_option('display.max_columns', None)"
   ]
  },
  {
   "cell_type": "code",
   "execution_count": 2,
   "metadata": {},
   "outputs": [],
   "source": [
    "df = pd.read_csv('E:/Desktop/edu-metarial/Msc_eco_class meterial/Study of mobile banking and challenges in India.csv')"
   ]
  },
  {
   "cell_type": "code",
   "execution_count": 3,
   "metadata": {
    "scrolled": true
   },
   "outputs": [
    {
     "data": {
      "text/html": [
       "<div>\n",
       "<style scoped>\n",
       "    .dataframe tbody tr th:only-of-type {\n",
       "        vertical-align: middle;\n",
       "    }\n",
       "\n",
       "    .dataframe tbody tr th {\n",
       "        vertical-align: top;\n",
       "    }\n",
       "\n",
       "    .dataframe thead th {\n",
       "        text-align: right;\n",
       "    }\n",
       "</style>\n",
       "<table border=\"1\" class=\"dataframe\">\n",
       "  <thead>\n",
       "    <tr style=\"text-align: right;\">\n",
       "      <th></th>\n",
       "      <th>Timestamp</th>\n",
       "      <th>What’s your education level ?</th>\n",
       "      <th>What’s  your age group ?</th>\n",
       "      <th>Do you use mobile banking</th>\n",
       "      <th>Why do you use Mobile banking service ? ( Choose two preferred  options.)</th>\n",
       "      <th>Why don’t you use Mobile  banking  ?( *Choose two preferred options )</th>\n",
       "      <th>What is your average monthly mobile banking transaction amount ?</th>\n",
       "      <th>What is your average  number of mobile banking transaction monthly ?</th>\n",
       "      <th>Have you faced any online transaction fraud  ?</th>\n",
       "      <th>Ever did you place  mis-transaction (sent to  other person rather than actual person ) ?</th>\n",
       "      <th>What is your working profile ?</th>\n",
       "      <th>Would you like to use Mobile banking in future ?</th>\n",
       "    </tr>\n",
       "  </thead>\n",
       "  <tbody>\n",
       "    <tr>\n",
       "      <th>0</th>\n",
       "      <td>2021/10/16 8:11:02 PM GMT+5:30</td>\n",
       "      <td>Higher educated</td>\n",
       "      <td>18- 25</td>\n",
       "      <td>Yes</td>\n",
       "      <td>Mobile banking is easy to use;Time saver appli...</td>\n",
       "      <td>I use Mobile  banking</td>\n",
       "      <td>Below 10000</td>\n",
       "      <td>Below 10</td>\n",
       "      <td>No</td>\n",
       "      <td>No</td>\n",
       "      <td>Student</td>\n",
       "      <td>Yes</td>\n",
       "    </tr>\n",
       "    <tr>\n",
       "      <th>1</th>\n",
       "      <td>2021/10/16 8:16:22 PM GMT+5:30</td>\n",
       "      <td>Higher educated</td>\n",
       "      <td>18- 25</td>\n",
       "      <td>Yes</td>\n",
       "      <td>Mobile banking is easy to use;Time saver appli...</td>\n",
       "      <td>I use Mobile  banking</td>\n",
       "      <td>Below 10000</td>\n",
       "      <td>between 10 – 50</td>\n",
       "      <td>No</td>\n",
       "      <td>No</td>\n",
       "      <td>Student</td>\n",
       "      <td>Yes</td>\n",
       "    </tr>\n",
       "    <tr>\n",
       "      <th>2</th>\n",
       "      <td>2021/10/16 8:18:36 PM GMT+5:30</td>\n",
       "      <td>Higher educated</td>\n",
       "      <td>18- 25</td>\n",
       "      <td>Yes</td>\n",
       "      <td>Mobile banking is easy to use;Available 24 hours</td>\n",
       "      <td>I use Mobile  banking</td>\n",
       "      <td>Between 100000   to 500000</td>\n",
       "      <td>between 10 – 50</td>\n",
       "      <td>Yes</td>\n",
       "      <td>Yes, but  I did not get money back</td>\n",
       "      <td>Self Employ</td>\n",
       "      <td>Yes</td>\n",
       "    </tr>\n",
       "    <tr>\n",
       "      <th>3</th>\n",
       "      <td>2021/10/16 8:20:14 PM GMT+5:30</td>\n",
       "      <td>Secondary educated</td>\n",
       "      <td>18- 25</td>\n",
       "      <td>No</td>\n",
       "      <td>Available 24 hours</td>\n",
       "      <td>No use for me</td>\n",
       "      <td>Below 10000</td>\n",
       "      <td>NaN</td>\n",
       "      <td>No</td>\n",
       "      <td>No</td>\n",
       "      <td>Student</td>\n",
       "      <td>Not sure</td>\n",
       "    </tr>\n",
       "    <tr>\n",
       "      <th>4</th>\n",
       "      <td>2021/10/16 8:21:08 PM GMT+5:30</td>\n",
       "      <td>Higher educated</td>\n",
       "      <td>18- 25</td>\n",
       "      <td>Yes</td>\n",
       "      <td>Available 24 hours</td>\n",
       "      <td>Required facility not available;I am not eligible</td>\n",
       "      <td>Below 10000</td>\n",
       "      <td>Below 10</td>\n",
       "      <td>No</td>\n",
       "      <td>yes, but I got my money back to account</td>\n",
       "      <td>Student</td>\n",
       "      <td>Yes</td>\n",
       "    </tr>\n",
       "  </tbody>\n",
       "</table>\n",
       "</div>"
      ],
      "text/plain": [
       "                        Timestamp What’s your education level ?   \\\n",
       "0  2021/10/16 8:11:02 PM GMT+5:30                Higher educated   \n",
       "1  2021/10/16 8:16:22 PM GMT+5:30                Higher educated   \n",
       "2  2021/10/16 8:18:36 PM GMT+5:30                Higher educated   \n",
       "3  2021/10/16 8:20:14 PM GMT+5:30             Secondary educated   \n",
       "4  2021/10/16 8:21:08 PM GMT+5:30                Higher educated   \n",
       "\n",
       "  What’s  your age group ? Do you use mobile banking  \\\n",
       "0                   18- 25                       Yes   \n",
       "1                   18- 25                       Yes   \n",
       "2                   18- 25                       Yes   \n",
       "3                   18- 25                        No   \n",
       "4                   18- 25                       Yes   \n",
       "\n",
       "  Why do you use Mobile banking service ? ( Choose two preferred  options.)   \\\n",
       "0  Mobile banking is easy to use;Time saver appli...                           \n",
       "1  Mobile banking is easy to use;Time saver appli...                           \n",
       "2   Mobile banking is easy to use;Available 24 hours                           \n",
       "3                                 Available 24 hours                           \n",
       "4                                 Available 24 hours                           \n",
       "\n",
       "  Why don’t you use Mobile  banking  ?( *Choose two preferred options )  \\\n",
       "0                              I use Mobile  banking                      \n",
       "1                              I use Mobile  banking                      \n",
       "2                              I use Mobile  banking                      \n",
       "3                                      No use for me                      \n",
       "4  Required facility not available;I am not eligible                      \n",
       "\n",
       "  What is your average monthly mobile banking transaction amount ?  \\\n",
       "0                                        Below 10000                 \n",
       "1                                        Below 10000                 \n",
       "2                         Between 100000   to 500000                 \n",
       "3                                        Below 10000                 \n",
       "4                                        Below 10000                 \n",
       "\n",
       "  What is your average  number of mobile banking transaction monthly ?  \\\n",
       "0                                           Below 10                     \n",
       "1                                    between 10 – 50                     \n",
       "2                                    between 10 – 50                     \n",
       "3                                                NaN                     \n",
       "4                                           Below 10                     \n",
       "\n",
       "    Have you faced any online transaction fraud  ?                      \\\n",
       "0                                                 No                     \n",
       "1                                                 No                     \n",
       "2                                                Yes                     \n",
       "3                                                 No                     \n",
       "4                                                 No                     \n",
       "\n",
       "  Ever did you place  mis-transaction (sent to  other person rather than actual person ) ?  \\\n",
       "0                                                 No                                         \n",
       "1                                                 No                                         \n",
       "2                 Yes, but  I did not get money back                                         \n",
       "3                                                 No                                         \n",
       "4            yes, but I got my money back to account                                         \n",
       "\n",
       "  What is your working profile ?  \\\n",
       "0                        Student   \n",
       "1                        Student   \n",
       "2                    Self Employ   \n",
       "3                        Student   \n",
       "4                        Student   \n",
       "\n",
       "  Would you like to use Mobile banking in future ?  \n",
       "0                                              Yes  \n",
       "1                                              Yes  \n",
       "2                                              Yes  \n",
       "3                                         Not sure  \n",
       "4                                              Yes  "
      ]
     },
     "execution_count": 3,
     "metadata": {},
     "output_type": "execute_result"
    }
   ],
   "source": [
    "df.head()"
   ]
  },
  {
   "cell_type": "code",
   "execution_count": 4,
   "metadata": {},
   "outputs": [
    {
     "data": {
      "text/plain": [
       "array(['18- 25', '26 – 45', 'Below 18', '46- 60', '60 above'],\n",
       "      dtype=object)"
      ]
     },
     "execution_count": 4,
     "metadata": {},
     "output_type": "execute_result"
    }
   ],
   "source": [
    "## knowing about age categories\n",
    "df['What’s  your age group ?'].unique()"
   ]
  },
  {
   "cell_type": "code",
   "execution_count": 5,
   "metadata": {
    "scrolled": true
   },
   "outputs": [
    {
     "name": "stdout",
     "output_type": "stream",
     "text": [
      "Sample size is : 164\n"
     ]
    }
   ],
   "source": [
    "## Sample Size\n",
    "\n",
    "print('Sample size is :',len(df))"
   ]
  },
  {
   "cell_type": "code",
   "execution_count": 6,
   "metadata": {},
   "outputs": [
    {
     "data": {
      "text/plain": [
       "Index(['Timestamp', 'What’s your education level ? ',\n",
       "       'What’s  your age group ?', 'Do you use mobile banking',\n",
       "       'Why do you use Mobile banking service ? ( Choose two preferred  options.) ',\n",
       "       'Why don’t you use Mobile  banking  ?( *Choose two preferred options )',\n",
       "       'What is your average monthly mobile banking transaction amount ?',\n",
       "       'What is your average  number of mobile banking transaction monthly ?',\n",
       "       '  Have you faced any online transaction fraud  ?                    ',\n",
       "       'Ever did you place  mis-transaction (sent to  other person rather than actual person ) ?',\n",
       "       'What is your working profile ?',\n",
       "       'Would you like to use Mobile banking in future ?'],\n",
       "      dtype='object')"
      ]
     },
     "execution_count": 6,
     "metadata": {},
     "output_type": "execute_result"
    }
   ],
   "source": [
    "## getting list of columns\n",
    "df.columns"
   ]
  },
  {
   "cell_type": "code",
   "execution_count": 7,
   "metadata": {},
   "outputs": [],
   "source": [
    "## Removing Noise from columns : 'Why do you use Mobile banking service ? ( Choose two preferred  options.) ' , 'Why don’t you use Mobile  banking  ?( *Choose two preferred options )'\n",
    "\n",
    "j = 0\n",
    "for i in df['Do you use mobile banking'] :\n",
    "    if i == 'No' :\n",
    "        df.loc[j,'Why do you use Mobile banking service ? ( Choose two preferred  options.) '] = 'Not use'\n",
    "        df.loc[j,'Ever did you place  mis-transaction (sent to  other person rather than actual person ) ?'] = 'No'\n",
    "        df.loc[j,'  Have you faced any online transaction fraud  ?                    '] = 'No'\n",
    "        df.loc[j,'What is your average monthly mobile banking transaction amount ?'] = 0\n",
    "        df.loc[j,'What is your average  number of mobile banking transaction monthly ?'] =0\n",
    "    if i == 'Yes' :\n",
    "        df.loc[j,'Why don’t you use Mobile  banking  ?( *Choose two preferred options )'] = 'use'\n",
    "    j = j+1"
   ]
  },
  {
   "cell_type": "code",
   "execution_count": 8,
   "metadata": {
    "scrolled": true
   },
   "outputs": [
    {
     "data": {
      "text/html": [
       "<div>\n",
       "<style scoped>\n",
       "    .dataframe tbody tr th:only-of-type {\n",
       "        vertical-align: middle;\n",
       "    }\n",
       "\n",
       "    .dataframe tbody tr th {\n",
       "        vertical-align: top;\n",
       "    }\n",
       "\n",
       "    .dataframe thead th {\n",
       "        text-align: right;\n",
       "    }\n",
       "</style>\n",
       "<table border=\"1\" class=\"dataframe\">\n",
       "  <thead>\n",
       "    <tr style=\"text-align: right;\">\n",
       "      <th></th>\n",
       "      <th>Timestamp</th>\n",
       "      <th>What’s your education level ?</th>\n",
       "      <th>What’s  your age group ?</th>\n",
       "      <th>Do you use mobile banking</th>\n",
       "      <th>Why do you use Mobile banking service ? ( Choose two preferred  options.)</th>\n",
       "      <th>Why don’t you use Mobile  banking  ?( *Choose two preferred options )</th>\n",
       "      <th>What is your average monthly mobile banking transaction amount ?</th>\n",
       "      <th>What is your average  number of mobile banking transaction monthly ?</th>\n",
       "      <th>Have you faced any online transaction fraud  ?</th>\n",
       "      <th>Ever did you place  mis-transaction (sent to  other person rather than actual person ) ?</th>\n",
       "      <th>What is your working profile ?</th>\n",
       "      <th>Would you like to use Mobile banking in future ?</th>\n",
       "    </tr>\n",
       "  </thead>\n",
       "  <tbody>\n",
       "    <tr>\n",
       "      <th>0</th>\n",
       "      <td>2021/10/16 8:11:02 PM GMT+5:30</td>\n",
       "      <td>Higher educated</td>\n",
       "      <td>18- 25</td>\n",
       "      <td>Yes</td>\n",
       "      <td>Mobile banking is easy to use;Time saver appli...</td>\n",
       "      <td>use</td>\n",
       "      <td>Below 10000</td>\n",
       "      <td>Below 10</td>\n",
       "      <td>No</td>\n",
       "      <td>No</td>\n",
       "      <td>Student</td>\n",
       "      <td>Yes</td>\n",
       "    </tr>\n",
       "    <tr>\n",
       "      <th>1</th>\n",
       "      <td>2021/10/16 8:16:22 PM GMT+5:30</td>\n",
       "      <td>Higher educated</td>\n",
       "      <td>18- 25</td>\n",
       "      <td>Yes</td>\n",
       "      <td>Mobile banking is easy to use;Time saver appli...</td>\n",
       "      <td>use</td>\n",
       "      <td>Below 10000</td>\n",
       "      <td>between 10 – 50</td>\n",
       "      <td>No</td>\n",
       "      <td>No</td>\n",
       "      <td>Student</td>\n",
       "      <td>Yes</td>\n",
       "    </tr>\n",
       "    <tr>\n",
       "      <th>2</th>\n",
       "      <td>2021/10/16 8:18:36 PM GMT+5:30</td>\n",
       "      <td>Higher educated</td>\n",
       "      <td>18- 25</td>\n",
       "      <td>Yes</td>\n",
       "      <td>Mobile banking is easy to use;Available 24 hours</td>\n",
       "      <td>use</td>\n",
       "      <td>Between 100000   to 500000</td>\n",
       "      <td>between 10 – 50</td>\n",
       "      <td>Yes</td>\n",
       "      <td>Yes, but  I did not get money back</td>\n",
       "      <td>Self Employ</td>\n",
       "      <td>Yes</td>\n",
       "    </tr>\n",
       "    <tr>\n",
       "      <th>3</th>\n",
       "      <td>2021/10/16 8:20:14 PM GMT+5:30</td>\n",
       "      <td>Secondary educated</td>\n",
       "      <td>18- 25</td>\n",
       "      <td>No</td>\n",
       "      <td>Not use</td>\n",
       "      <td>No use for me</td>\n",
       "      <td>0</td>\n",
       "      <td>0</td>\n",
       "      <td>No</td>\n",
       "      <td>No</td>\n",
       "      <td>Student</td>\n",
       "      <td>Not sure</td>\n",
       "    </tr>\n",
       "    <tr>\n",
       "      <th>4</th>\n",
       "      <td>2021/10/16 8:21:08 PM GMT+5:30</td>\n",
       "      <td>Higher educated</td>\n",
       "      <td>18- 25</td>\n",
       "      <td>Yes</td>\n",
       "      <td>Available 24 hours</td>\n",
       "      <td>use</td>\n",
       "      <td>Below 10000</td>\n",
       "      <td>Below 10</td>\n",
       "      <td>No</td>\n",
       "      <td>yes, but I got my money back to account</td>\n",
       "      <td>Student</td>\n",
       "      <td>Yes</td>\n",
       "    </tr>\n",
       "  </tbody>\n",
       "</table>\n",
       "</div>"
      ],
      "text/plain": [
       "                        Timestamp What’s your education level ?   \\\n",
       "0  2021/10/16 8:11:02 PM GMT+5:30                Higher educated   \n",
       "1  2021/10/16 8:16:22 PM GMT+5:30                Higher educated   \n",
       "2  2021/10/16 8:18:36 PM GMT+5:30                Higher educated   \n",
       "3  2021/10/16 8:20:14 PM GMT+5:30             Secondary educated   \n",
       "4  2021/10/16 8:21:08 PM GMT+5:30                Higher educated   \n",
       "\n",
       "  What’s  your age group ? Do you use mobile banking  \\\n",
       "0                   18- 25                       Yes   \n",
       "1                   18- 25                       Yes   \n",
       "2                   18- 25                       Yes   \n",
       "3                   18- 25                        No   \n",
       "4                   18- 25                       Yes   \n",
       "\n",
       "  Why do you use Mobile banking service ? ( Choose two preferred  options.)   \\\n",
       "0  Mobile banking is easy to use;Time saver appli...                           \n",
       "1  Mobile banking is easy to use;Time saver appli...                           \n",
       "2   Mobile banking is easy to use;Available 24 hours                           \n",
       "3                                            Not use                           \n",
       "4                                 Available 24 hours                           \n",
       "\n",
       "  Why don’t you use Mobile  banking  ?( *Choose two preferred options )  \\\n",
       "0                                                use                      \n",
       "1                                                use                      \n",
       "2                                                use                      \n",
       "3                                      No use for me                      \n",
       "4                                                use                      \n",
       "\n",
       "  What is your average monthly mobile banking transaction amount ?  \\\n",
       "0                                        Below 10000                 \n",
       "1                                        Below 10000                 \n",
       "2                         Between 100000   to 500000                 \n",
       "3                                                  0                 \n",
       "4                                        Below 10000                 \n",
       "\n",
       "  What is your average  number of mobile banking transaction monthly ?  \\\n",
       "0                                           Below 10                     \n",
       "1                                    between 10 – 50                     \n",
       "2                                    between 10 – 50                     \n",
       "3                                                  0                     \n",
       "4                                           Below 10                     \n",
       "\n",
       "    Have you faced any online transaction fraud  ?                      \\\n",
       "0                                                 No                     \n",
       "1                                                 No                     \n",
       "2                                                Yes                     \n",
       "3                                                 No                     \n",
       "4                                                 No                     \n",
       "\n",
       "  Ever did you place  mis-transaction (sent to  other person rather than actual person ) ?  \\\n",
       "0                                                 No                                         \n",
       "1                                                 No                                         \n",
       "2                 Yes, but  I did not get money back                                         \n",
       "3                                                 No                                         \n",
       "4            yes, but I got my money back to account                                         \n",
       "\n",
       "  What is your working profile ?  \\\n",
       "0                        Student   \n",
       "1                        Student   \n",
       "2                    Self Employ   \n",
       "3                        Student   \n",
       "4                        Student   \n",
       "\n",
       "  Would you like to use Mobile banking in future ?  \n",
       "0                                              Yes  \n",
       "1                                              Yes  \n",
       "2                                              Yes  \n",
       "3                                         Not sure  \n",
       "4                                              Yes  "
      ]
     },
     "execution_count": 8,
     "metadata": {},
     "output_type": "execute_result"
    }
   ],
   "source": [
    "df.head()"
   ]
  },
  {
   "cell_type": "code",
   "execution_count": 9,
   "metadata": {},
   "outputs": [],
   "source": [
    "## Creating Dummy DataFrame \n",
    "df1 = pd.DataFrame(index= range(0,len(df)),columns = df.columns)\n",
    "\n",
    "## creating New columns for having more than one categorical values \n",
    "df1[['Adv_easy_to_use','Adv_Time saver','Adv_low_cost','Adv_24_hours','Adv_easy transaction','Dis_handset_issue',\n",
    "    'Dis_hard to use','Dis_facility not available','Dis_Security_issue','Dis_ not eligible','Dis_ not aware']] = np.nan"
   ]
  },
  {
   "cell_type": "code",
   "execution_count": 10,
   "metadata": {},
   "outputs": [],
   "source": [
    "## columns that will be direct assigned to Dummy DataFrame\n",
    "col1 = ['Timestamp', 'What’s your education level ? ',\n",
    "       'What’s  your age group ?', 'Do you use mobile banking',\n",
    "       'What is your average monthly mobile banking transaction amount ?',\n",
    "       'What is your average  number of mobile banking transaction monthly ?',\n",
    "       '  Have you faced any online transaction fraud  ?                    ',\n",
    "       'Ever did you place  mis-transaction (sent to  other person rather than actual person ) ?',\n",
    "       'What is your working profile ?',\n",
    "       'Would you like to use Mobile banking in future ?']"
   ]
  },
  {
   "cell_type": "markdown",
   "metadata": {},
   "source": [
    "## Filling Dummy Dataframe"
   ]
  },
  {
   "cell_type": "code",
   "execution_count": 11,
   "metadata": {},
   "outputs": [],
   "source": [
    "for i in col1 :\n",
    "    df1[i] = df[i]"
   ]
  },
  {
   "cell_type": "code",
   "execution_count": 12,
   "metadata": {},
   "outputs": [],
   "source": [
    "## Encoding the column : \"Why do you use Mobile banking service ? ( Choose two preferred options.)\"\n",
    "\n",
    "j =0\n",
    "for i in df['Why do you use Mobile banking service ? ( Choose two preferred  options.) ']:\n",
    "    txt = re.findall(\"Mobile banking is easy to use|Time saver application|Low transaction cost|Available 24 hours|It provides easy transaction\",i)\n",
    "    if 'Mobile banking is easy to use' in txt :\n",
    "        df1.loc[j,'Adv_easy_to_use'] = 1\n",
    "    else :\n",
    "        df1.loc[j,'Adv_easy_to_use'] = 0\n",
    "        \n",
    "    if 'Time saver application' in txt :\n",
    "        df1.loc[j,'Adv_Time saver']=1\n",
    "    else :\n",
    "        df1.loc[j,'Adv_Time saver']=0\n",
    "    if 'Low transaction cost' in txt :\n",
    "        df1.loc[j,'Adv_low_cost']=1\n",
    "    else :\n",
    "        df1.loc[j,'Adv_low_cost']=0\n",
    "    if 'Available 24 hours' in txt :\n",
    "        df1.loc[j,'Adv_24_hours']=1\n",
    "    else :\n",
    "        df1.loc[j,'Adv_24_hours']=0\n",
    "    if 'It provides easy transaction' in txt :\n",
    "        df1.loc[j,'Adv_easy transaction']=1\n",
    "    else :\n",
    "        df1.loc[j,'Adv_easy transaction']=0\n",
    "    j = j +1\n",
    "    \n",
    "    "
   ]
  },
  {
   "cell_type": "code",
   "execution_count": 13,
   "metadata": {},
   "outputs": [],
   "source": [
    "## Encoding the column : ' Why don’t you use Mobile  banking  ?( *Choose two preferred options ) '\n",
    "\n",
    "j =0\n",
    "for i in  df['Why don’t you use Mobile  banking  ?( *Choose two preferred options )'] :\n",
    "    txt = re.findall(\"My handset does not have the capability to use mobile banking|Mobile banking is hard to use|Required facility not available|Security issues|I am not eligible|I am not aware about Mobile Banking\",i)\n",
    "    if 'My handset does not have the capability to use mobile banking' in txt :\n",
    "        df1.loc[j,'Dis_handset_issue'] = 1\n",
    "    else :\n",
    "        df1.loc[j,'Dis_handset_issue'] = 0\n",
    "        \n",
    "    if 'Mobile banking is hard to use' in txt :\n",
    "        df1.loc[j,'Dis_hard to use']=1\n",
    "    else :\n",
    "        df1.loc[j,'Dis_hard to use']=0\n",
    "        \n",
    "    if 'Required facility not available' in txt :\n",
    "        df1.loc[j,'Dis_facility not available']=1\n",
    "    else :\n",
    "        df1.loc[j,'Dis_facility not available']=0\n",
    "    if 'Security issues' in txt :\n",
    "        df1.loc[j,'Dis_Security_issue']=1\n",
    "    else :\n",
    "        df1.loc[j,'Dis_Security_issue']=0\n",
    "        \n",
    "    if 'I am not eligible' in txt :\n",
    "        df1.loc[j,'Dis_ not eligible']=1\n",
    "    else :\n",
    "        df1.loc[j,'Dis_ not eligible']=0\n",
    "    if 'I am not aware about Mobile Banking' in txt :\n",
    "        df1.loc[j,'Dis_ not aware']=1\n",
    "    else :\n",
    "        df1.loc[j,'Dis_ not aware']=0\n",
    "        \n",
    "    j = j +1\n",
    "    "
   ]
  },
  {
   "cell_type": "code",
   "execution_count": 14,
   "metadata": {},
   "outputs": [],
   "source": [
    "## Dropping the columns which are not usefull\n",
    "\n",
    "df1.drop(['Timestamp','Why do you use Mobile banking service ? ( Choose two preferred  options.) ',\n",
    "           'Why don’t you use Mobile  banking  ?( *Choose two preferred options )'],axis =1, inplace = True)"
   ]
  },
  {
   "cell_type": "code",
   "execution_count": 15,
   "metadata": {
    "scrolled": true
   },
   "outputs": [
    {
     "data": {
      "text/html": [
       "<div>\n",
       "<style scoped>\n",
       "    .dataframe tbody tr th:only-of-type {\n",
       "        vertical-align: middle;\n",
       "    }\n",
       "\n",
       "    .dataframe tbody tr th {\n",
       "        vertical-align: top;\n",
       "    }\n",
       "\n",
       "    .dataframe thead th {\n",
       "        text-align: right;\n",
       "    }\n",
       "</style>\n",
       "<table border=\"1\" class=\"dataframe\">\n",
       "  <thead>\n",
       "    <tr style=\"text-align: right;\">\n",
       "      <th></th>\n",
       "      <th>What’s your education level ?</th>\n",
       "      <th>What’s  your age group ?</th>\n",
       "      <th>Do you use mobile banking</th>\n",
       "      <th>What is your average monthly mobile banking transaction amount ?</th>\n",
       "      <th>What is your average  number of mobile banking transaction monthly ?</th>\n",
       "      <th>Have you faced any online transaction fraud  ?</th>\n",
       "      <th>Ever did you place  mis-transaction (sent to  other person rather than actual person ) ?</th>\n",
       "      <th>What is your working profile ?</th>\n",
       "      <th>Would you like to use Mobile banking in future ?</th>\n",
       "      <th>Adv_easy_to_use</th>\n",
       "      <th>Adv_Time saver</th>\n",
       "      <th>Adv_low_cost</th>\n",
       "      <th>Adv_24_hours</th>\n",
       "      <th>Adv_easy transaction</th>\n",
       "      <th>Dis_handset_issue</th>\n",
       "      <th>Dis_hard to use</th>\n",
       "      <th>Dis_facility not available</th>\n",
       "      <th>Dis_Security_issue</th>\n",
       "      <th>Dis_ not eligible</th>\n",
       "      <th>Dis_ not aware</th>\n",
       "    </tr>\n",
       "  </thead>\n",
       "  <tbody>\n",
       "    <tr>\n",
       "      <th>0</th>\n",
       "      <td>Higher educated</td>\n",
       "      <td>18- 25</td>\n",
       "      <td>Yes</td>\n",
       "      <td>Below 10000</td>\n",
       "      <td>Below 10</td>\n",
       "      <td>No</td>\n",
       "      <td>No</td>\n",
       "      <td>Student</td>\n",
       "      <td>Yes</td>\n",
       "      <td>1.0</td>\n",
       "      <td>1.0</td>\n",
       "      <td>0.0</td>\n",
       "      <td>1.0</td>\n",
       "      <td>1.0</td>\n",
       "      <td>0.0</td>\n",
       "      <td>0.0</td>\n",
       "      <td>0.0</td>\n",
       "      <td>0.0</td>\n",
       "      <td>0.0</td>\n",
       "      <td>0.0</td>\n",
       "    </tr>\n",
       "    <tr>\n",
       "      <th>1</th>\n",
       "      <td>Higher educated</td>\n",
       "      <td>18- 25</td>\n",
       "      <td>Yes</td>\n",
       "      <td>Below 10000</td>\n",
       "      <td>between 10 – 50</td>\n",
       "      <td>No</td>\n",
       "      <td>No</td>\n",
       "      <td>Student</td>\n",
       "      <td>Yes</td>\n",
       "      <td>1.0</td>\n",
       "      <td>1.0</td>\n",
       "      <td>0.0</td>\n",
       "      <td>1.0</td>\n",
       "      <td>1.0</td>\n",
       "      <td>0.0</td>\n",
       "      <td>0.0</td>\n",
       "      <td>0.0</td>\n",
       "      <td>0.0</td>\n",
       "      <td>0.0</td>\n",
       "      <td>0.0</td>\n",
       "    </tr>\n",
       "    <tr>\n",
       "      <th>2</th>\n",
       "      <td>Higher educated</td>\n",
       "      <td>18- 25</td>\n",
       "      <td>Yes</td>\n",
       "      <td>Between 100000   to 500000</td>\n",
       "      <td>between 10 – 50</td>\n",
       "      <td>Yes</td>\n",
       "      <td>Yes, but  I did not get money back</td>\n",
       "      <td>Self Employ</td>\n",
       "      <td>Yes</td>\n",
       "      <td>1.0</td>\n",
       "      <td>0.0</td>\n",
       "      <td>0.0</td>\n",
       "      <td>1.0</td>\n",
       "      <td>0.0</td>\n",
       "      <td>0.0</td>\n",
       "      <td>0.0</td>\n",
       "      <td>0.0</td>\n",
       "      <td>0.0</td>\n",
       "      <td>0.0</td>\n",
       "      <td>0.0</td>\n",
       "    </tr>\n",
       "    <tr>\n",
       "      <th>3</th>\n",
       "      <td>Secondary educated</td>\n",
       "      <td>18- 25</td>\n",
       "      <td>No</td>\n",
       "      <td>0</td>\n",
       "      <td>0</td>\n",
       "      <td>No</td>\n",
       "      <td>No</td>\n",
       "      <td>Student</td>\n",
       "      <td>Not sure</td>\n",
       "      <td>0.0</td>\n",
       "      <td>0.0</td>\n",
       "      <td>0.0</td>\n",
       "      <td>0.0</td>\n",
       "      <td>0.0</td>\n",
       "      <td>0.0</td>\n",
       "      <td>0.0</td>\n",
       "      <td>0.0</td>\n",
       "      <td>0.0</td>\n",
       "      <td>0.0</td>\n",
       "      <td>0.0</td>\n",
       "    </tr>\n",
       "    <tr>\n",
       "      <th>4</th>\n",
       "      <td>Higher educated</td>\n",
       "      <td>18- 25</td>\n",
       "      <td>Yes</td>\n",
       "      <td>Below 10000</td>\n",
       "      <td>Below 10</td>\n",
       "      <td>No</td>\n",
       "      <td>yes, but I got my money back to account</td>\n",
       "      <td>Student</td>\n",
       "      <td>Yes</td>\n",
       "      <td>0.0</td>\n",
       "      <td>0.0</td>\n",
       "      <td>0.0</td>\n",
       "      <td>1.0</td>\n",
       "      <td>0.0</td>\n",
       "      <td>0.0</td>\n",
       "      <td>0.0</td>\n",
       "      <td>0.0</td>\n",
       "      <td>0.0</td>\n",
       "      <td>0.0</td>\n",
       "      <td>0.0</td>\n",
       "    </tr>\n",
       "  </tbody>\n",
       "</table>\n",
       "</div>"
      ],
      "text/plain": [
       "  What’s your education level ?  What’s  your age group ?  \\\n",
       "0                Higher educated                   18- 25   \n",
       "1                Higher educated                   18- 25   \n",
       "2                Higher educated                   18- 25   \n",
       "3             Secondary educated                   18- 25   \n",
       "4                Higher educated                   18- 25   \n",
       "\n",
       "  Do you use mobile banking  \\\n",
       "0                       Yes   \n",
       "1                       Yes   \n",
       "2                       Yes   \n",
       "3                        No   \n",
       "4                       Yes   \n",
       "\n",
       "  What is your average monthly mobile banking transaction amount ?  \\\n",
       "0                                        Below 10000                 \n",
       "1                                        Below 10000                 \n",
       "2                         Between 100000   to 500000                 \n",
       "3                                                  0                 \n",
       "4                                        Below 10000                 \n",
       "\n",
       "  What is your average  number of mobile banking transaction monthly ?  \\\n",
       "0                                           Below 10                     \n",
       "1                                    between 10 – 50                     \n",
       "2                                    between 10 – 50                     \n",
       "3                                                  0                     \n",
       "4                                           Below 10                     \n",
       "\n",
       "    Have you faced any online transaction fraud  ?                      \\\n",
       "0                                                 No                     \n",
       "1                                                 No                     \n",
       "2                                                Yes                     \n",
       "3                                                 No                     \n",
       "4                                                 No                     \n",
       "\n",
       "  Ever did you place  mis-transaction (sent to  other person rather than actual person ) ?  \\\n",
       "0                                                 No                                         \n",
       "1                                                 No                                         \n",
       "2                 Yes, but  I did not get money back                                         \n",
       "3                                                 No                                         \n",
       "4            yes, but I got my money back to account                                         \n",
       "\n",
       "  What is your working profile ?  \\\n",
       "0                        Student   \n",
       "1                        Student   \n",
       "2                    Self Employ   \n",
       "3                        Student   \n",
       "4                        Student   \n",
       "\n",
       "  Would you like to use Mobile banking in future ?  Adv_easy_to_use  \\\n",
       "0                                              Yes              1.0   \n",
       "1                                              Yes              1.0   \n",
       "2                                              Yes              1.0   \n",
       "3                                         Not sure              0.0   \n",
       "4                                              Yes              0.0   \n",
       "\n",
       "   Adv_Time saver  Adv_low_cost  Adv_24_hours  Adv_easy transaction  \\\n",
       "0             1.0           0.0           1.0                   1.0   \n",
       "1             1.0           0.0           1.0                   1.0   \n",
       "2             0.0           0.0           1.0                   0.0   \n",
       "3             0.0           0.0           0.0                   0.0   \n",
       "4             0.0           0.0           1.0                   0.0   \n",
       "\n",
       "   Dis_handset_issue  Dis_hard to use  Dis_facility not available  \\\n",
       "0                0.0              0.0                         0.0   \n",
       "1                0.0              0.0                         0.0   \n",
       "2                0.0              0.0                         0.0   \n",
       "3                0.0              0.0                         0.0   \n",
       "4                0.0              0.0                         0.0   \n",
       "\n",
       "   Dis_Security_issue  Dis_ not eligible  Dis_ not aware  \n",
       "0                 0.0                0.0             0.0  \n",
       "1                 0.0                0.0             0.0  \n",
       "2                 0.0                0.0             0.0  \n",
       "3                 0.0                0.0             0.0  \n",
       "4                 0.0                0.0             0.0  "
      ]
     },
     "execution_count": 15,
     "metadata": {},
     "output_type": "execute_result"
    }
   ],
   "source": [
    "df1.head()"
   ]
  },
  {
   "cell_type": "code",
   "execution_count": 16,
   "metadata": {},
   "outputs": [
    {
     "data": {
      "text/plain": [
       "18- 25      84\n",
       "60 above    30\n",
       "26 – 45     22\n",
       "46- 60      16\n",
       "Below 18    12\n",
       "Name: What’s  your age group ?, dtype: int64"
      ]
     },
     "execution_count": 16,
     "metadata": {},
     "output_type": "execute_result"
    }
   ],
   "source": [
    "## Number of people in different age group in Sample\n",
    "\n",
    "df1['What’s  your age group ?'].value_counts(normalize = False,sort = True)"
   ]
  },
  {
   "cell_type": "code",
   "execution_count": 17,
   "metadata": {},
   "outputs": [],
   "source": [
    "## creating Two different DataFrame for User and non-user of Mobile Banking\n",
    "\n",
    "df_user = df1[df1['Do you use mobile banking']=='Yes']\n",
    "df_Not_user = df1[df1['Do you use mobile banking'] !='Yes']\n",
    "df_user.reset_index(drop = True,inplace = True)\n",
    "df_Not_user.reset_index(drop = True,inplace = True)"
   ]
  },
  {
   "cell_type": "code",
   "execution_count": 18,
   "metadata": {
    "scrolled": true
   },
   "outputs": [
    {
     "data": {
      "text/plain": [
       "18- 25      60\n",
       "26 – 45     12\n",
       "60 above     6\n",
       "Below 18     4\n",
       "46- 60       4\n",
       "Name: What’s  your age group ?, dtype: int64"
      ]
     },
     "execution_count": 18,
     "metadata": {},
     "output_type": "execute_result"
    }
   ],
   "source": [
    "## Number of people in different age group in user sample Sample\n",
    "\n",
    "df_user['What’s  your age group ?'].value_counts(normalize = False,sort = True)"
   ]
  },
  {
   "cell_type": "code",
   "execution_count": 19,
   "metadata": {},
   "outputs": [
    {
     "data": {
      "text/plain": [
       "18- 25      24\n",
       "60 above    24\n",
       "46- 60      12\n",
       "26 – 45     10\n",
       "Below 18     8\n",
       "Name: What’s  your age group ?, dtype: int64"
      ]
     },
     "execution_count": 19,
     "metadata": {},
     "output_type": "execute_result"
    }
   ],
   "source": [
    "## Number of people in different age group in Non-user sample Sample\n",
    "\n",
    "df_Not_user['What’s  your age group ?'].value_counts(normalize = False,sort = True)"
   ]
  },
  {
   "cell_type": "code",
   "execution_count": 20,
   "metadata": {},
   "outputs": [
    {
     "name": "stdout",
     "output_type": "stream",
     "text": [
      "Sample Size : 164\n",
      "% people use Mobile Banking in Sample : 52\n",
      "% people don not use Mobile Banking in sample: 48\n"
     ]
    }
   ],
   "source": [
    "## percentage of people use and do not use Mobile Banking\n",
    "\n",
    "print('Sample Size :',len(df1) )\n",
    "print('% people use Mobile Banking in Sample :',round((len(df_user)/len(df1))*100))\n",
    "print('% people don not use Mobile Banking in sample:',round((len(df_Not_user)/len(df1))*100))"
   ]
  },
  {
   "cell_type": "markdown",
   "metadata": {
    "scrolled": false
   },
   "source": [
    "## Analysis for People who use Mobile Banking "
   ]
  },
  {
   "cell_type": "markdown",
   "metadata": {},
   "source": [
    "### What are the convincing feature that make people to use Mobile Banking."
   ]
  },
  {
   "cell_type": "code",
   "execution_count": 21,
   "metadata": {
    "scrolled": false
   },
   "outputs": [
    {
     "name": "stdout",
     "output_type": "stream",
     "text": [
      "59% of user prefer Mobile Banking because, Mobile banking is easy to use.\n",
      "40% of user prefer Mobile Banking because, Time saver application.\n",
      "10% of user prefer Mobile Banking because, Low transaction cost.\n",
      "62% of user prefer Mobile Banking because, Available 24 hours.\n",
      "36% of user prefer Mobile Banking because, It provides easy transaction..\n"
     ]
    }
   ],
   "source": [
    "col_adv = ['Adv_easy_to_use','Adv_Time saver', 'Adv_low_cost', 'Adv_24_hours','Adv_easy transaction']\n",
    "col_char = ['Mobile banking is easy to use','Time saver application','Low transaction cost','Available 24 hours','It provides easy transaction.']\n",
    "value_list = []\n",
    "for i,j in zip( col_adv,col_char) :\n",
    "    value_list.append(round(sum(df_user[i])*100/len(df_user)))\n",
    "    print('{}% of user prefer Mobile Banking because, {}.'.format(round(sum(df_user[i])*100/len(df_user)), j))"
   ]
  },
  {
   "cell_type": "code",
   "execution_count": 22,
   "metadata": {},
   "outputs": [
    {
     "data": {
      "text/plain": [
       "Text(0, 0.5, 'Mobile Bankingfeature')"
      ]
     },
     "execution_count": 22,
     "metadata": {},
     "output_type": "execute_result"
    },
    {
     "data": {
      "image/png": "[encoded data removed]",
      "text/plain": [
       "<Figure size 432x288 with 1 Axes>"
      ]
     },
     "metadata": {
      "needs_background": "light"
     },
     "output_type": "display_data"
    }
   ],
   "source": [
    "sns.barplot(x= value_list,y=col_char, orient = \"h\")\n",
    "plt.xlabel('pecentage of user prefer Mobile Banking because of given feature')\n",
    "plt.ylabel('Mobile Bankingfeature')"
   ]
  },
  {
   "cell_type": "markdown",
   "metadata": {},
   "source": [
    "### User percentage across different Education level : Does Education level metters ?\n"
   ]
  },
  {
   "cell_type": "code",
   "execution_count": 23,
   "metadata": {},
   "outputs": [],
   "source": [
    "len_user =len(df1[(df1['What’s your education level ? '] =='Higher educated') & (df1['Do you use mobile banking']=='Yes')])\n",
    "len_total = len(df1[df1['What’s your education level ? '] =='Higher educated'])"
   ]
  },
  {
   "cell_type": "code",
   "execution_count": 24,
   "metadata": {
    "scrolled": true
   },
   "outputs": [
    {
     "name": "stdout",
     "output_type": "stream",
     "text": [
      " Percentage of people who is Higher Educated and use Mobile Banking : 62 %\n"
     ]
    }
   ],
   "source": [
    "print(' Percentage of people who is Higher Educated and use Mobile Banking :',round(len_user/len_total*100),'%')"
   ]
  },
  {
   "cell_type": "code",
   "execution_count": 25,
   "metadata": {},
   "outputs": [],
   "source": [
    "len_user =len(df1[(df1['What’s your education level ? '] !='Higher educated') & (df1['Do you use mobile banking']=='Yes')])\n",
    "len_total = len(df1[df1['What’s your education level ? '] !='Higher educated'])"
   ]
  },
  {
   "cell_type": "code",
   "execution_count": 26,
   "metadata": {},
   "outputs": [
    {
     "name": "stdout",
     "output_type": "stream",
     "text": [
      "Percentage of people who's education level is upto Secondary education  and use Mobile Banking : 28 %\n"
     ]
    }
   ],
   "source": [
    "print(\"Percentage of people who's education level is upto Secondary education  and use Mobile Banking :\",round(len_user/len_total*100),'%')"
   ]
  },
  {
   "cell_type": "markdown",
   "metadata": {},
   "source": [
    "### User percentage who faced Online transaction fraud and misplaced transaction"
   ]
  },
  {
   "cell_type": "markdown",
   "metadata": {},
   "source": [
    "-  user percenatge who faced Online transaction Fraud ."
   ]
  },
  {
   "cell_type": "code",
   "execution_count": 27,
   "metadata": {},
   "outputs": [
    {
     "name": "stdout",
     "output_type": "stream",
     "text": [
      "23 % user faced Online transaction Fraud .\n"
     ]
    }
   ],
   "source": [
    "len_fraud = len(df_user[df_user['  Have you faced any online transaction fraud  ?                    '] =='Yes'])\n",
    "print('{} % user faced Online transaction Fraud .'.format(round(len_fraud/len(df_user)*100 )))"
   ]
  },
  {
   "cell_type": "markdown",
   "metadata": {},
   "source": [
    "- user percenatge who misplaced  Online transaction ."
   ]
  },
  {
   "cell_type": "code",
   "execution_count": 28,
   "metadata": {
    "scrolled": true
   },
   "outputs": [
    {
     "data": {
      "text/plain": [
       "Text(0.5, 1.0, '%  of user faced Online transaction Fraud')"
      ]
     },
     "execution_count": 28,
     "metadata": {},
     "output_type": "execute_result"
    },
    {
     "data": {
      "image/png": "[encoded data removed]",
      "text/plain": [
       "<Figure size 432x288 with 1 Axes>"
      ]
     },
     "metadata": {},
     "output_type": "display_data"
    }
   ],
   "source": [
    "x = [23,77]\n",
    "y = ['Yes','No']\n",
    "plt.pie(x, labels = y,autopct='%.0f%%',colors = 'rg')\n",
    "plt.title('%  of user faced Online transaction Fraud')"
   ]
  },
  {
   "cell_type": "code",
   "execution_count": 29,
   "metadata": {},
   "outputs": [
    {
     "name": "stdout",
     "output_type": "stream",
     "text": [
      "35 % user did mis Online transaction.\n"
     ]
    }
   ],
   "source": [
    "\n",
    "len_mis_trans = len(df_user[df_user['Ever did you place  mis-transaction (sent to  other person rather than actual person ) ?'] !='No'])\n",
    "print('{} % user did mis Online transaction.'.format(round(len_mis_trans/len(df_user)*100 )))"
   ]
  },
  {
   "cell_type": "code",
   "execution_count": 30,
   "metadata": {},
   "outputs": [
    {
     "data": {
      "text/plain": [
       "Text(0.5, 1.0, '% user did mis Online transaction')"
      ]
     },
     "execution_count": 30,
     "metadata": {},
     "output_type": "execute_result"
    },
    {
     "data": {
      "image/png": "[encoded data removed]",
      "text/plain": [
       "<Figure size 432x288 with 1 Axes>"
      ]
     },
     "metadata": {},
     "output_type": "display_data"
    }
   ],
   "source": [
    "x = [35,65]\n",
    "y = ['Yes','No']\n",
    "plt.pie(x, labels = y,autopct='%.0f%%',colors = 'rg')\n",
    "plt.title('% user did mis Online transaction')"
   ]
  },
  {
   "cell_type": "code",
   "execution_count": 31,
   "metadata": {
    "scrolled": true
   },
   "outputs": [
    {
     "data": {
      "text/plain": [
       "array(['No', 'Yes, but  I did not get money back',\n",
       "       'yes, but I got my money back to account'], dtype=object)"
      ]
     },
     "execution_count": 31,
     "metadata": {},
     "output_type": "execute_result"
    }
   ],
   "source": [
    "df_user['Ever did you place  mis-transaction (sent to  other person rather than actual person ) ?'].unique()"
   ]
  },
  {
   "cell_type": "code",
   "execution_count": 32,
   "metadata": {
    "scrolled": true
   },
   "outputs": [
    {
     "name": "stdout",
     "output_type": "stream",
     "text": [
      "70 % user who did mis Online transaction and get money back.\n",
      "30 % user who  did mis Online transaction and not get money back\n"
     ]
    }
   ],
   "source": [
    "len_mis_trans_not_back = len(df_user[df_user['Ever did you place  mis-transaction (sent to  other person rather than actual person ) ?'] =='Yes, but  I did not get money back'])\n",
    "len_mis_trans_back = len(df_user[df_user['Ever did you place  mis-transaction (sent to  other person rather than actual person ) ?'] =='yes, but I got my money back to account'])\n",
    "print('{} % user who did mis Online transaction and get money back.'.format(round(len_mis_trans_back /len_mis_trans*100 )))\n",
    "print('{} % user who  did mis Online transaction and not get money back'.format(round(len_mis_trans_not_back /len_mis_trans*100 )))"
   ]
  },
  {
   "cell_type": "code",
   "execution_count": 33,
   "metadata": {},
   "outputs": [
    {
     "data": {
      "text/plain": [
       "Text(0.5, 1.0, '% of users who did Mis transaction and got Money Back')"
      ]
     },
     "execution_count": 33,
     "metadata": {},
     "output_type": "execute_result"
    },
    {
     "data": {
      "image/png": "[encoded data removed]",
      "text/plain": [
       "<Figure size 432x288 with 1 Axes>"
      ]
     },
     "metadata": {},
     "output_type": "display_data"
    }
   ],
   "source": [
    "x = [30,70]\n",
    "y = ['Did not get money back','Got money back']\n",
    "plt.pie(x, labels = y,autopct='%.0f%%',colors = 'rg')\n",
    "plt.title('% of users who did Mis transaction and got Money Back')"
   ]
  },
  {
   "cell_type": "markdown",
   "metadata": {},
   "source": [
    "### Does Age-Group matters ?"
   ]
  },
  {
   "cell_type": "markdown",
   "metadata": {},
   "source": [
    "- knowing Age group proportion in mobile Banking users"
   ]
  },
  {
   "cell_type": "code",
   "execution_count": 34,
   "metadata": {
    "scrolled": true
   },
   "outputs": [
    {
     "data": {
      "text/plain": [
       "array(['18- 25', '26 – 45', 'Below 18', '46- 60', '60 above'],\n",
       "      dtype=object)"
      ]
     },
     "execution_count": 34,
     "metadata": {},
     "output_type": "execute_result"
    }
   ],
   "source": [
    "## Knowing age-group cetagories \n",
    "df_user['What’s  your age group ?'].unique()"
   ]
  },
  {
   "cell_type": "code",
   "execution_count": 35,
   "metadata": {},
   "outputs": [
    {
     "name": "stdout",
     "output_type": "stream",
     "text": [
      "18- 25 age group proportion in user is 69.8%\n",
      "26 – 45 age group proportion in user is 14.0%\n",
      "60 above age group proportion in user is 7.0%\n",
      "Below 18 age group proportion in user is 4.7%\n",
      "46- 60 age group proportion in user is 4.7%\n"
     ]
    }
   ],
   "source": [
    "x=df_user['What’s  your age group ?'].value_counts(normalize = True,sort = True)\n",
    "x_index = x.index\n",
    "x_values = x.values*100\n",
    "values = round(df_user['What’s  your age group ?'].value_counts(normalize = True,sort = True)*100,1)\n",
    "values_index = df_user['What’s  your age group ?'].value_counts(normalize = True,sort = True).index\n",
    "for j,i in zip(values_index,values) :\n",
    "    print('{} age group proportion in user is {}%'.format(j,i))"
   ]
  },
  {
   "cell_type": "code",
   "execution_count": 36,
   "metadata": {
    "scrolled": false
   },
   "outputs": [
    {
     "data": {
      "text/plain": [
       "Text(0.5, 1.0, 'proportion distribution of user across Age groups')"
      ]
     },
     "execution_count": 36,
     "metadata": {},
     "output_type": "execute_result"
    },
    {
     "data": {
      "image/png": "[encoded data removed]",
      "text/plain": [
       "<Figure size 432x288 with 1 Axes>"
      ]
     },
     "metadata": {
      "needs_background": "light"
     },
     "output_type": "display_data"
    }
   ],
   "source": [
    "sns.barplot(x=x_index,\n",
    "    y=x_values)    #{\"hist\", \"kde\", \"ecdf\"}\n",
    "plt.xlabel('Age group')\n",
    "plt.ylabel('percentage proporttion of user')\n",
    "plt.title('proportion distribution of user across Age groups')"
   ]
  },
  {
   "cell_type": "code",
   "execution_count": 37,
   "metadata": {},
   "outputs": [],
   "source": [
    "age_group =df1['What’s  your age group ?'].unique()\n",
    "age_cet = []\n",
    "age_prop = []\n",
    "for i in age_group :\n",
    "    user_prop_Age = round((len(df_user[df_user['What’s  your age group ?']== i])/len(df1[df1['What’s  your age group ?']== i]))*100,1)\n",
    "    age_cet.append(i)\n",
    "    age_prop.append(user_prop_Age)"
   ]
  },
  {
   "cell_type": "code",
   "execution_count": 38,
   "metadata": {},
   "outputs": [
    {
     "data": {
      "text/plain": [
       "Text(0, 0.5, 'user percentage ')"
      ]
     },
     "execution_count": 38,
     "metadata": {},
     "output_type": "execute_result"
    },
    {
     "data": {
      "image/png": "[encoded data removed]",
      "text/plain": [
       "<Figure size 432x288 with 1 Axes>"
      ]
     },
     "metadata": {
      "needs_background": "light"
     },
     "output_type": "display_data"
    }
   ],
   "source": [
    "sns.barplot(x=age_cet, y=age_prop)\n",
    "plt.title('user proportion for each Age-group')\n",
    "plt.xlabel('Age-group')\n",
    "plt.ylabel('user percentage ')"
   ]
  },
  {
   "cell_type": "code",
   "execution_count": 39,
   "metadata": {
    "scrolled": true
   },
   "outputs": [
    {
     "name": "stdout",
     "output_type": "stream",
     "text": [
      "71.4% poeple in age-group \"18- 25\" use Mobile Banking\n",
      "54.5% poeple in age-group \"26 – 45\" use Mobile Banking\n",
      "33.3% poeple in age-group \"Below 18\" use Mobile Banking\n",
      "25.0% poeple in age-group \"46- 60\" use Mobile Banking\n",
      "20.0% poeple in age-group \"60 above\" use Mobile Banking\n"
     ]
    }
   ],
   "source": [
    "for i,j in zip(age_cet,age_prop) :\n",
    "    print('{}% poeple in age-group \"{}\" use Mobile Banking'.format(j,i))"
   ]
  },
  {
   "cell_type": "markdown",
   "metadata": {},
   "source": [
    "## Analysis for People who don't use Mobile Banking"
   ]
  },
  {
   "cell_type": "code",
   "execution_count": 40,
   "metadata": {},
   "outputs": [
    {
     "data": {
      "text/html": [
       "<div>\n",
       "<style scoped>\n",
       "    .dataframe tbody tr th:only-of-type {\n",
       "        vertical-align: middle;\n",
       "    }\n",
       "\n",
       "    .dataframe tbody tr th {\n",
       "        vertical-align: top;\n",
       "    }\n",
       "\n",
       "    .dataframe thead th {\n",
       "        text-align: right;\n",
       "    }\n",
       "</style>\n",
       "<table border=\"1\" class=\"dataframe\">\n",
       "  <thead>\n",
       "    <tr style=\"text-align: right;\">\n",
       "      <th></th>\n",
       "      <th>What’s your education level ?</th>\n",
       "      <th>What’s  your age group ?</th>\n",
       "      <th>Do you use mobile banking</th>\n",
       "      <th>What is your average monthly mobile banking transaction amount ?</th>\n",
       "      <th>What is your average  number of mobile banking transaction monthly ?</th>\n",
       "      <th>Have you faced any online transaction fraud  ?</th>\n",
       "      <th>Ever did you place  mis-transaction (sent to  other person rather than actual person ) ?</th>\n",
       "      <th>What is your working profile ?</th>\n",
       "      <th>Would you like to use Mobile banking in future ?</th>\n",
       "      <th>Adv_easy_to_use</th>\n",
       "      <th>Adv_Time saver</th>\n",
       "      <th>Adv_low_cost</th>\n",
       "      <th>Adv_24_hours</th>\n",
       "      <th>Adv_easy transaction</th>\n",
       "      <th>Dis_handset_issue</th>\n",
       "      <th>Dis_hard to use</th>\n",
       "      <th>Dis_facility not available</th>\n",
       "      <th>Dis_Security_issue</th>\n",
       "      <th>Dis_ not eligible</th>\n",
       "      <th>Dis_ not aware</th>\n",
       "    </tr>\n",
       "  </thead>\n",
       "  <tbody>\n",
       "    <tr>\n",
       "      <th>0</th>\n",
       "      <td>Secondary educated</td>\n",
       "      <td>18- 25</td>\n",
       "      <td>No</td>\n",
       "      <td>0</td>\n",
       "      <td>0</td>\n",
       "      <td>No</td>\n",
       "      <td>No</td>\n",
       "      <td>Student</td>\n",
       "      <td>Not sure</td>\n",
       "      <td>0.0</td>\n",
       "      <td>0.0</td>\n",
       "      <td>0.0</td>\n",
       "      <td>0.0</td>\n",
       "      <td>0.0</td>\n",
       "      <td>0.0</td>\n",
       "      <td>0.0</td>\n",
       "      <td>0.0</td>\n",
       "      <td>0.0</td>\n",
       "      <td>0.0</td>\n",
       "      <td>0.0</td>\n",
       "    </tr>\n",
       "    <tr>\n",
       "      <th>1</th>\n",
       "      <td>Higher educated</td>\n",
       "      <td>18- 25</td>\n",
       "      <td>No</td>\n",
       "      <td>0</td>\n",
       "      <td>0</td>\n",
       "      <td>No</td>\n",
       "      <td>No</td>\n",
       "      <td>Student</td>\n",
       "      <td>Yes</td>\n",
       "      <td>0.0</td>\n",
       "      <td>0.0</td>\n",
       "      <td>0.0</td>\n",
       "      <td>0.0</td>\n",
       "      <td>0.0</td>\n",
       "      <td>1.0</td>\n",
       "      <td>0.0</td>\n",
       "      <td>0.0</td>\n",
       "      <td>0.0</td>\n",
       "      <td>0.0</td>\n",
       "      <td>0.0</td>\n",
       "    </tr>\n",
       "    <tr>\n",
       "      <th>2</th>\n",
       "      <td>Higher educated</td>\n",
       "      <td>18- 25</td>\n",
       "      <td>No</td>\n",
       "      <td>0</td>\n",
       "      <td>0</td>\n",
       "      <td>No</td>\n",
       "      <td>No</td>\n",
       "      <td>Student</td>\n",
       "      <td>Yes</td>\n",
       "      <td>0.0</td>\n",
       "      <td>0.0</td>\n",
       "      <td>0.0</td>\n",
       "      <td>0.0</td>\n",
       "      <td>0.0</td>\n",
       "      <td>1.0</td>\n",
       "      <td>0.0</td>\n",
       "      <td>0.0</td>\n",
       "      <td>0.0</td>\n",
       "      <td>0.0</td>\n",
       "      <td>0.0</td>\n",
       "    </tr>\n",
       "    <tr>\n",
       "      <th>3</th>\n",
       "      <td>Higher educated</td>\n",
       "      <td>18- 25</td>\n",
       "      <td>No</td>\n",
       "      <td>0</td>\n",
       "      <td>0</td>\n",
       "      <td>No</td>\n",
       "      <td>No</td>\n",
       "      <td>Student</td>\n",
       "      <td>Not sure</td>\n",
       "      <td>0.0</td>\n",
       "      <td>0.0</td>\n",
       "      <td>0.0</td>\n",
       "      <td>0.0</td>\n",
       "      <td>0.0</td>\n",
       "      <td>0.0</td>\n",
       "      <td>0.0</td>\n",
       "      <td>0.0</td>\n",
       "      <td>0.0</td>\n",
       "      <td>1.0</td>\n",
       "      <td>1.0</td>\n",
       "    </tr>\n",
       "    <tr>\n",
       "      <th>4</th>\n",
       "      <td>Higher educated</td>\n",
       "      <td>18- 25</td>\n",
       "      <td>No</td>\n",
       "      <td>0</td>\n",
       "      <td>0</td>\n",
       "      <td>No</td>\n",
       "      <td>No</td>\n",
       "      <td>Student</td>\n",
       "      <td>Not sure</td>\n",
       "      <td>0.0</td>\n",
       "      <td>0.0</td>\n",
       "      <td>0.0</td>\n",
       "      <td>0.0</td>\n",
       "      <td>0.0</td>\n",
       "      <td>0.0</td>\n",
       "      <td>0.0</td>\n",
       "      <td>0.0</td>\n",
       "      <td>0.0</td>\n",
       "      <td>1.0</td>\n",
       "      <td>0.0</td>\n",
       "    </tr>\n",
       "  </tbody>\n",
       "</table>\n",
       "</div>"
      ],
      "text/plain": [
       "  What’s your education level ?  What’s  your age group ?  \\\n",
       "0             Secondary educated                   18- 25   \n",
       "1                Higher educated                   18- 25   \n",
       "2                Higher educated                   18- 25   \n",
       "3                Higher educated                   18- 25   \n",
       "4                Higher educated                   18- 25   \n",
       "\n",
       "  Do you use mobile banking  \\\n",
       "0                        No   \n",
       "1                        No   \n",
       "2                        No   \n",
       "3                        No   \n",
       "4                        No   \n",
       "\n",
       "  What is your average monthly mobile banking transaction amount ?  \\\n",
       "0                                                  0                 \n",
       "1                                                  0                 \n",
       "2                                                  0                 \n",
       "3                                                  0                 \n",
       "4                                                  0                 \n",
       "\n",
       "  What is your average  number of mobile banking transaction monthly ?  \\\n",
       "0                                                  0                     \n",
       "1                                                  0                     \n",
       "2                                                  0                     \n",
       "3                                                  0                     \n",
       "4                                                  0                     \n",
       "\n",
       "    Have you faced any online transaction fraud  ?                      \\\n",
       "0                                                 No                     \n",
       "1                                                 No                     \n",
       "2                                                 No                     \n",
       "3                                                 No                     \n",
       "4                                                 No                     \n",
       "\n",
       "  Ever did you place  mis-transaction (sent to  other person rather than actual person ) ?  \\\n",
       "0                                                 No                                         \n",
       "1                                                 No                                         \n",
       "2                                                 No                                         \n",
       "3                                                 No                                         \n",
       "4                                                 No                                         \n",
       "\n",
       "  What is your working profile ?  \\\n",
       "0                        Student   \n",
       "1                        Student   \n",
       "2                        Student   \n",
       "3                        Student   \n",
       "4                        Student   \n",
       "\n",
       "  Would you like to use Mobile banking in future ?  Adv_easy_to_use  \\\n",
       "0                                         Not sure              0.0   \n",
       "1                                              Yes              0.0   \n",
       "2                                              Yes              0.0   \n",
       "3                                         Not sure              0.0   \n",
       "4                                         Not sure              0.0   \n",
       "\n",
       "   Adv_Time saver  Adv_low_cost  Adv_24_hours  Adv_easy transaction  \\\n",
       "0             0.0           0.0           0.0                   0.0   \n",
       "1             0.0           0.0           0.0                   0.0   \n",
       "2             0.0           0.0           0.0                   0.0   \n",
       "3             0.0           0.0           0.0                   0.0   \n",
       "4             0.0           0.0           0.0                   0.0   \n",
       "\n",
       "   Dis_handset_issue  Dis_hard to use  Dis_facility not available  \\\n",
       "0                0.0              0.0                         0.0   \n",
       "1                1.0              0.0                         0.0   \n",
       "2                1.0              0.0                         0.0   \n",
       "3                0.0              0.0                         0.0   \n",
       "4                0.0              0.0                         0.0   \n",
       "\n",
       "   Dis_Security_issue  Dis_ not eligible  Dis_ not aware  \n",
       "0                 0.0                0.0             0.0  \n",
       "1                 0.0                0.0             0.0  \n",
       "2                 0.0                0.0             0.0  \n",
       "3                 0.0                1.0             1.0  \n",
       "4                 0.0                1.0             0.0  "
      ]
     },
     "execution_count": 40,
     "metadata": {},
     "output_type": "execute_result"
    }
   ],
   "source": [
    "## Data frame for non user \n",
    "df_Not_user.head()"
   ]
  },
  {
   "cell_type": "code",
   "execution_count": 41,
   "metadata": {},
   "outputs": [
    {
     "data": {
      "text/plain": [
       "Index(['What’s your education level ? ', 'What’s  your age group ?',\n",
       "       'Do you use mobile banking',\n",
       "       'What is your average monthly mobile banking transaction amount ?',\n",
       "       'What is your average  number of mobile banking transaction monthly ?',\n",
       "       '  Have you faced any online transaction fraud  ?                    ',\n",
       "       'Ever did you place  mis-transaction (sent to  other person rather than actual person ) ?',\n",
       "       'What is your working profile ?',\n",
       "       'Would you like to use Mobile banking in future ?', 'Adv_easy_to_use',\n",
       "       'Adv_Time saver', 'Adv_low_cost', 'Adv_24_hours',\n",
       "       'Adv_easy transaction', 'Dis_handset_issue', 'Dis_hard to use',\n",
       "       'Dis_facility not available', 'Dis_Security_issue', 'Dis_ not eligible',\n",
       "       'Dis_ not aware'],\n",
       "      dtype='object')"
      ]
     },
     "execution_count": 41,
     "metadata": {},
     "output_type": "execute_result"
    }
   ],
   "source": [
    "df_Not_user.columns"
   ]
  },
  {
   "cell_type": "markdown",
   "metadata": {},
   "source": [
    "- ## What are the most concern thing about mobile Banking for non user "
   ]
  },
  {
   "cell_type": "code",
   "execution_count": 42,
   "metadata": {},
   "outputs": [
    {
     "name": "stdout",
     "output_type": "stream",
     "text": [
      "22% of user prefer Mobile Banking because, My handset does not have the capability to use mobile banking.\n",
      "32% of user prefer Mobile Banking because, Mobile banking is hard to use.\n",
      "3% of user prefer Mobile Banking because, Required facility not available.\n",
      "51% of user prefer Mobile Banking because, Security issues.\n",
      "10% of user prefer Mobile Banking because, I am not eligible.\n",
      "35% of user prefer Mobile Banking because, I am not aware about Mobile Banking.\n"
     ]
    }
   ],
   "source": [
    "col_disadv = ['Dis_handset_issue', 'Dis_hard to use','Dis_facility not available', 'Dis_Security_issue', 'Dis_ not eligible','Dis_ not aware']\n",
    "col_char = ['My handset does not have the capability to use mobile banking','Mobile banking is hard to use','Required facility not available'\n",
    ",'Security issues','I am not eligible','I am not aware about Mobile Banking']\n",
    "value_list = []\n",
    "for i,j in zip(col_disadv,col_char) :\n",
    "    value_list.append(round(sum(df_Not_user[i])*100/len(df_Not_user)))\n",
    "    print('{}% of user prefer Mobile Banking because, {}.'.format(round(sum(df_Not_user[i])*100/len(df_Not_user)), j))"
   ]
  },
  {
   "cell_type": "code",
   "execution_count": 43,
   "metadata": {},
   "outputs": [
    {
     "data": {
      "text/plain": [
       "Text(0, 0.5, 'Concern of Non users')"
      ]
     },
     "execution_count": 43,
     "metadata": {},
     "output_type": "execute_result"
    },
    {
     "data": {
      "image/png": "[encoded data removed]",
      "text/plain": [
       "<Figure size 432x288 with 1 Axes>"
      ]
     },
     "metadata": {
      "needs_background": "light"
     },
     "output_type": "display_data"
    }
   ],
   "source": [
    "sns.barplot(x= value_list,y=col_char, orient = \"h\")\n",
    "plt.xlabel('pecentage of non users of Mobile Banking have concern')\n",
    "plt.ylabel('Concern of Non users')"
   ]
  },
  {
   "cell_type": "markdown",
   "metadata": {},
   "source": [
    "- ### does concern vary with age group ?\n",
    "- ### What are the most concern thing about mobile Banking for non user of age above 45 ?"
   ]
  },
  {
   "cell_type": "code",
   "execution_count": 44,
   "metadata": {},
   "outputs": [
    {
     "name": "stdout",
     "output_type": "stream",
     "text": [
      "31% of user prefer Mobile Banking because, My handset does not have the capability to use mobile banking.\n",
      "67% of user prefer Mobile Banking because, Mobile banking is hard to use.\n",
      "0% of user prefer Mobile Banking because, Required facility not available.\n",
      "72% of user prefer Mobile Banking because, Security issues.\n",
      "0% of user prefer Mobile Banking because, I am not eligible.\n",
      "31% of user prefer Mobile Banking because, I am not aware about Mobile Banking.\n"
     ]
    }
   ],
   "source": [
    "## Defing dataframe for age above 45 and not a user \n",
    "df_Not_user_above45  = df_Not_user[(df_Not_user['What’s  your age group ?']=='46- 60') | (df_Not_user['What’s  your age group ?']== '60 above')]\n",
    "col_disadv = ['Dis_handset_issue', 'Dis_hard to use','Dis_facility not available', 'Dis_Security_issue', 'Dis_ not eligible','Dis_ not aware']\n",
    "col_char = ['My handset does not have the capability to use mobile banking','Mobile banking is hard to use','Required facility not available'\n",
    ",'Security issues','I am not eligible','I am not aware about Mobile Banking']\n",
    "value_list = []\n",
    "for i,j in zip(col_disadv,col_char) :\n",
    "    value_list.append(round(sum(df_Not_user_above45[i])*100/len(df_Not_user_above45)))\n",
    "    print('{}% of user prefer Mobile Banking because, {}.'.format(round(sum(df_Not_user_above45[i])*100/len(df_Not_user_above45)), j))"
   ]
  },
  {
   "cell_type": "code",
   "execution_count": 45,
   "metadata": {
    "scrolled": true
   },
   "outputs": [
    {
     "data": {
      "text/plain": [
       "Text(0, 0.5, 'Concern of Non users')"
      ]
     },
     "execution_count": 45,
     "metadata": {},
     "output_type": "execute_result"
    },
    {
     "data": {
      "image/png": "[encoded data removed]",
      "text/plain": [
       "<Figure size 432x288 with 1 Axes>"
      ]
     },
     "metadata": {
      "needs_background": "light"
     },
     "output_type": "display_data"
    }
   ],
   "source": [
    "sns.barplot(x= value_list,y=col_char, orient = \"h\")\n",
    "plt.xlabel('pecentage of non users of Mobile Banking have concern')\n",
    "plt.ylabel('Concern of Non users')"
   ]
  },
  {
   "cell_type": "markdown",
   "metadata": {},
   "source": [
    "### what is the population proportion who don't use Mobile banking but would like to use in future"
   ]
  },
  {
   "cell_type": "code",
   "execution_count": 46,
   "metadata": {
    "scrolled": true
   },
   "outputs": [
    {
     "data": {
      "text/plain": [
       "Yes         0.500000\n",
       "No          0.346154\n",
       "Not sure    0.153846\n",
       "Name: Would you like to use Mobile banking in future ?, dtype: float64"
      ]
     },
     "execution_count": 46,
     "metadata": {},
     "output_type": "execute_result"
    }
   ],
   "source": [
    "df_Not_user['Would you like to use Mobile banking in future ?'].value_counts(normalize = True)"
   ]
  },
  {
   "cell_type": "markdown",
   "metadata": {},
   "source": [
    "### what is the population proportion who don't use Mobile banking and Age group above 45 year old but would like to use in future"
   ]
  },
  {
   "cell_type": "code",
   "execution_count": 47,
   "metadata": {},
   "outputs": [
    {
     "data": {
      "text/plain": [
       "Yes         0.472222\n",
       "No          0.444444\n",
       "Not sure    0.083333\n",
       "Name: Would you like to use Mobile banking in future ?, dtype: float64"
      ]
     },
     "execution_count": 47,
     "metadata": {},
     "output_type": "execute_result"
    }
   ],
   "source": [
    "df_Not_user[(df_Not_user['What’s  your age group ?']=='46- 60') | (df_Not_user['What’s  your age group ?']== '60 above')]['Would you like to use Mobile banking in future ?'].value_counts(normalize = True)"
   ]
  },
  {
   "cell_type": "markdown",
   "metadata": {},
   "source": [
    "### what is the population proportion who don't use Mobile banking and Age group above 45 year old but would like to use in future and having issue \"Mobile banking is hard to use\""
   ]
  },
  {
   "cell_type": "code",
   "execution_count": 48,
   "metadata": {
    "scrolled": false
   },
   "outputs": [
    {
     "data": {
      "text/plain": [
       "Yes         0.583333\n",
       "No          0.375000\n",
       "Not sure    0.041667\n",
       "Name: Would you like to use Mobile banking in future ?, dtype: float64"
      ]
     },
     "execution_count": 48,
     "metadata": {},
     "output_type": "execute_result"
    }
   ],
   "source": [
    "df_Not_user[(df_Not_user['Dis_hard to use']==1) & ((df_Not_user['What’s  your age group ?']=='46- 60') | (df_Not_user['What’s  your age group ?']== '60 above'))]['Would you like to use Mobile banking in future ?'].value_counts(normalize = True)"
   ]
  },
  {
   "cell_type": "markdown",
   "metadata": {},
   "source": [
    "## Conclusion"
   ]
  },
  {
   "cell_type": "markdown",
   "metadata": {},
   "source": [
    "- large proportion of  mobile banking user come from young age-group, most convincing feature of Mobile banking is availability of 24 hour of Mobile Banking service, 59% user use because of Mobile Banking is easy to use, hance company should make User interference  more user friendly.\n",
    "- 23% user have faced Online transaction fraud, which is significantly high, on other hand 35% user have placed Mistransaction, out of which 30% user didn't get monery back. these type of user experience discourage non user to use Mobile banking, company should make transaction  more safe and tackle the problem of mis-transaction problem, Mistransaction sound comman mistake by users\n",
    "- Non user have one of the most biggest concern is Security issue, around 72% non user shown this concern, which discourage people to use Mobile banking and we can correlate it with user's experience percentage of Online transactional fraud and Mistransaction issue.\n",
    "- 2nd most biggest issue is 'Mobile banking' is hard to use ,since older age group have higher contribution in non-user, they are less likely to adopt new technology , hence company should make it more easier to use.\n",
    "\n",
    "- around 50% non user said they would like to use Mobile Banking, it seems encouraging proportion, which may implies that non user are willing to use but they don't have required knowladge ( as 67% non user accept Mobile Banking hard to use a and 31% of user accept not aware about Mobile Banking.).\n",
    "\n",
    "- Hance, companies sholud work on security issue, mistrancation issue and make more friendly UI as well as make people more aware about Mobile banking by campaign and advertisment"
   ]
  }
 ],
 "metadata": {
  "kernelspec": {
   "display_name": "Python 3",
   "language": "python",
   "name": "python3"
  },
  "language_info": {
   "codemirror_mode": {
    "name": "ipython",
    "version": 3
   },
   "file_extension": ".py",
   "mimetype": "text/x-python",
   "name": "python",
   "nbconvert_exporter": "python",
   "pygments_lexer": "ipython3",
   "version": "3.8.5"
  }
 },
 "nbformat": 4,
 "nbformat_minor": 4
}
